{
  "nbformat": 4,
  "nbformat_minor": 0,
  "metadata": {
    "colab": {
      "provenance": [],
      "authorship_tag": "ABX9TyMmIxmmhuk7LcAsO3bI8hcW",
      "include_colab_link": true
    },
    "kernelspec": {
      "name": "python3",
      "display_name": "Python 3"
    },
    "language_info": {
      "name": "python"
    }
  },
  "cells": [
    {
      "cell_type": "markdown",
      "metadata": {
        "id": "view-in-github",
        "colab_type": "text"
      },
      "source": [
        "<a href=\"https://colab.research.google.com/github/leslyyuvicela/PrograIII-2024-Semi/blob/Bloque_3/IA.ipynb\" target=\"_parent\"><img src=\"https://colab.research.google.com/assets/colab-badge.svg\" alt=\"Open In Colab\"/></a>"
      ]
    },
    {
      "cell_type": "markdown",
      "source": [
        "Entrenando una IA de conversor de temperatura"
      ],
      "metadata": {
        "id": "DCDu_iUguZO2"
      }
    },
    {
      "cell_type": "code",
      "execution_count": null,
      "metadata": {
        "id": "tXosfu-DLppn",
        "colab": {
          "base_uri": "https://localhost:8080/"
        },
        "outputId": "4fe3415c-df1b-4b59-fc33-79591bcd49ae"
      },
      "outputs": [
        {
          "output_type": "stream",
          "name": "stdout",
          "text": [
            "     c       k\n",
            "0  -50  223,15\n",
            "1  -40  233,15\n",
            "2  -30  243,15\n",
            "3  -20  253,15\n",
            "4  -15  258,15\n",
            "5  -10  263,15\n",
            "6   -5  268,15\n",
            "7   -4  269,15\n",
            "8   -3  270,15\n",
            "9   -2  271,15\n",
            "10  -1  272,15\n",
            "11   0  273,15\n",
            "12   1  274,15\n",
            "13   2  275,15\n",
            "14   3  276,15\n",
            "15   4  277,15\n",
            "16   5  278,15\n",
            "17  10  283,15\n",
            "18  15  288,15\n",
            "19  20  293,15\n",
            "20  30  303,15\n",
            "21  40  313,15\n",
            "22  50  323,15 0     223,15\n",
            "1     233,15\n",
            "2     243,15\n",
            "3     253,15\n",
            "4     258,15\n",
            "5     263,15\n",
            "6     268,15\n",
            "7     269,15\n",
            "8     270,15\n",
            "9     271,15\n",
            "10    272,15\n",
            "11    273,15\n",
            "12    274,15\n",
            "13    275,15\n",
            "14    276,15\n",
            "15    277,15\n",
            "16    278,15\n",
            "17    283,15\n",
            "18    288,15\n",
            "19    293,15\n",
            "20    303,15\n",
            "21    313,15\n",
            "22    323,15\n",
            "Name: k, dtype: object\n"
          ]
        }
      ],
      "source": [
        "import tensorflow as tf\n",
        "import pandas as pd\n",
        "\n",
        "temp = pd.read_csv(\"/content/grados.csv\", sep=\";\", encoding=\"utf-8\")\n",
        "print(temp, temp[\"k\"])"
      ]
    },
    {
      "cell_type": "code",
      "source": [
        "#datos de entrenamiento\n",
        "celcius = temp[\"c\"]\n",
        "fahrenheit = temp[\"f\"]\n",
        "\n",
        "#print(fahrenheit)"
      ],
      "metadata": {
        "id": "ihsMRCs_vI50"
      },
      "execution_count": null,
      "outputs": []
    },
    {
      "cell_type": "code",
      "source": [
        "#modelo\n",
        "modelo = tf.keras.Sequential()\n",
        "modelo.add(tf.keras.layers.Dense(units=1, input_shape=[1]))"
      ],
      "metadata": {
        "colab": {
          "base_uri": "https://localhost:8080/"
        },
        "collapsed": true,
        "id": "jMBLEA3uvWGM",
        "outputId": "4c8a576d-7d9e-43de-9d79-6c8667894205"
      },
      "execution_count": null,
      "outputs": [
        {
          "output_type": "stream",
          "name": "stderr",
          "text": [
            "/usr/local/lib/python3.10/dist-packages/keras/src/layers/core/dense.py:87: UserWarning: Do not pass an `input_shape`/`input_dim` argument to a layer. When using Sequential models, prefer using an `Input(shape)` object as the first layer in the model instead.\n",
            "  super().__init__(activity_regularizer=activity_regularizer, **kwargs)\n"
          ]
        }
      ]
    },
    {
      "cell_type": "code",
      "source": [
        "#compilar\n",
        "modelo.compile(optimizer=tf.keras.optimizers.Adam(1.0), loss=\"mean_squared_error\")\n",
        "\n",
        "#entrenamiento\n",
        "epocas = modelo.fit(celcius, fahrenheit, epochs=300, verbose=0)\n",
        "print(\"Entrenamiento finalizado\")"
      ],
      "metadata": {
        "id": "KRoaCEkCvdxO"
      },
      "execution_count": null,
      "outputs": []
    },
    {
      "cell_type": "code",
      "source": [
        "#probar nuestra IA\n",
        "\n",
        "import numpy as np\n",
        "grados = np.array([60])\n",
        "resp = modelo.predict([grados])\n",
        "print(\"El valor en Farenheits es: \", round(resp[0][0], 2))"
      ],
      "metadata": {
        "colab": {
          "base_uri": "https://localhost:8080/"
        },
        "id": "4OJZ_iGmxabQ",
        "outputId": "5afa3d13-c6d4-46f2-d7f7-82ca9a710224"
      },
      "execution_count": null,
      "outputs": [
        {
          "output_type": "stream",
          "name": "stdout",
          "text": [
            "\u001b[1m1/1\u001b[0m \u001b[32m━━━━━━━━━━━━━━━━━━━━\u001b[0m\u001b[37m\u001b[0m \u001b[1m0s\u001b[0m 25ms/step\n",
            "El valor en Farenheits es:  140.01\n"
          ]
        }
      ]
    }
  ]
}