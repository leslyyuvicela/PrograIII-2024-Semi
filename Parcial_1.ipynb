{
  "nbformat": 4,
  "nbformat_minor": 0,
  "metadata": {
    "colab": {
      "provenance": [],
      "authorship_tag": "ABX9TyOY/ZHv+iF9vs4ZNnzOBFCj",
      "include_colab_link": true
    },
    "kernelspec": {
      "name": "python3",
      "display_name": "Python 3"
    },
    "language_info": {
      "name": "python"
    }
  },
  "cells": [
    {
      "cell_type": "markdown",
      "metadata": {
        "id": "view-in-github",
        "colab_type": "text"
      },
      "source": [
        "<a href=\"https://colab.research.google.com/github/leslyyuvicela/PrograIII-2024-Semi/blob/main/Parcial_1.ipynb\" target=\"_parent\"><img src=\"https://colab.research.google.com/assets/colab-badge.svg\" alt=\"Open In Colab\"/></a>"
      ]
    },
    {
      "cell_type": "markdown",
      "source": [
        "1. Desarrolle un algoritmo en Python que calcule el IMPUESTO A LAS\n",
        "ACTIVIDADES ECONOMICAS."
      ],
      "metadata": {
        "id": "f1OQMZHLJ2yB"
      }
    },
    {
      "cell_type": "code",
      "execution_count": 16,
      "metadata": {
        "colab": {
          "base_uri": "https://localhost:8080/"
        },
        "id": "tUp0_zMfJsk9",
        "outputId": "c708b3dc-574f-4016-cc5c-1bee534e175b"
      },
      "outputs": [
        {
          "output_type": "stream",
          "name": "stdout",
          "text": [
            "Introduce el monto de la actividad económica: 1875.79\n",
            "El valor a pagar por la actividad económica de $1875.79 es: $5.63\n"
          ]
        }
      ],
      "source": [
        "tarifas = [\n",
        "    {\"desde\": 0.01, \"hasta\": 500, \"precio\": 1.5, \"adicional\": 0},\n",
        "    {\"desde\": 500.01, \"hasta\": 1000, \"precio\": 1.5, \"adicional\": 3},\n",
        "    {\"desde\": 1000.01, \"hasta\": 2000, \"precio\": 3, \"adicional\": 3},\n",
        "    {\"desde\": 2000.01, \"hasta\": 3000, \"precio\": 6, \"adicional\": 3},\n",
        "    {\"desde\": 3000.01, \"hasta\": 6000, \"precio\": 9, \"adicional\": 2},\n",
        "    {\"desde\": 8000.01, \"hasta\": 18000, \"precio\": 15, \"adicional\": 2},\n",
        "    {\"desde\": 18000.01, \"hasta\": 30000, \"precio\": 39, \"adicional\": 2},\n",
        "    {\"desde\": 30000.01, \"hasta\": 60000, \"precio\": 63, \"adicional\": 1},\n",
        "    {\"desde\": 60000.01, \"hasta\": 100000, \"precio\": 93, \"adicional\": 0.8},\n",
        "    {\"desde\": 100000.01, \"hasta\": 200000, \"precio\": 125, \"adicional\": 0.7},\n",
        "    {\"desde\": 200000.01, \"hasta\": 300000, \"precio\": 195, \"adicional\": 0.6},\n",
        "    {\"desde\": 300000.01, \"hasta\": 400000, \"precio\": 255, \"adicional\": 0.45},\n",
        "    {\"desde\": 400000.01, \"hasta\": 500000, \"precio\": 300, \"adicional\": 0.4},\n",
        "    {\"desde\": 500000.01, \"hasta\": 1000000, \"precio\": 340, \"adicional\": 0.3},\n",
        "    {\"desde\": 1000000.01, \"hasta\": 999999999, \"precio\": 490, \"adicional\": 0.18},\n",
        "]\n",
        "\n",
        "def calcular_impuesto(monto):\n",
        "    # Recorremos cada rango para determinar en cuál se encuentra el monto\n",
        "    for tarifa in tarifas:\n",
        "        if tarifa[\"desde\"] <= monto <= tarifa[\"hasta\"]:\n",
        "            # Calculamos el impuesto según la fórmula\n",
        "            diferencia = monto - tarifa[\"desde\"]\n",
        "            impuesto = (diferencia / (tarifa[\"hasta\"] - tarifa[\"desde\"])) * tarifa[\"adicional\"] + tarifa[\"precio\"]\n",
        "            return round(impuesto, 2)\n",
        "    return 0\n",
        "\n",
        "monto = float(input(\"Introduce el monto de la actividad económica: \"))\n",
        "impuesto = calcular_impuesto(monto)\n",
        "print(f\"El valor a pagar por la actividad económica de ${monto} es: ${impuesto}\")\n"
      ]
    },
    {
      "cell_type": "markdown",
      "source": [
        "Conversor de area"
      ],
      "metadata": {
        "id": "b1IIPzqWUaC9"
      }
    },
    {
      "cell_type": "code",
      "source": [
        "from IPython.display import clear_output\n",
        "\n",
        "conversiones = {\n",
        "     \"Área\": {\"Metros cuadrados\":1,\"Pies cuadrados\":10.7639104,\"Yardas cuadradas\":1.19599005,\"Manzanas\":142860000.00,\"Tareas\":2285710000.00,\"Hectáreas\":0.0001, \"vara cuadrada\":0.03953686 }\n",
        "}\n",
        "\n",
        "# Función para convertir\n",
        "def convertir(cantidad, unidad_de, unidad_a):\n",
        "    valor_base = cantidad / conversiones[unidad_de]\n",
        "    return valor_base * conversiones[unidad_a]"
      ],
      "metadata": {
        "id": "rHKJPu3kUb35"
      },
      "execution_count": 2,
      "outputs": []
    },
    {
      "cell_type": "code",
      "source": [
        "def principal():\n",
        "    tipo = seleccionar_tipo()\n",
        "    unidades = list(conversiones[tipo].keys())\n",
        "\n",
        "    print(\"\\nUnidades disponibles:\")\n",
        "    for i, unidad in enumerate(unidades):\n",
        "        print(f\"{i + 1}. {unidad}\")\n",
        "\n",
        "    unidad_de = seleccionar_unidad(\"Convertir de\", unidades)\n",
        "    unidad_a = seleccionar_unidad(\"Convertir a\", unidades)\n",
        "\n",
        "    while True:\n",
        "        try:\n",
        "            cantidad = float(input(f\"\\nIngrese la cantidad en {unidad_de}: \"))\n",
        "            break\n",
        "        except ValueError:\n",
        "            print(\"Entrada inválida. Ingrese un número válido.\")\n",
        "\n",
        "    resultado = convertir(cantidad, unidad_de, unidad_a, tipo)\n",
        "    print(f\"\\n{cantidad} {unidad_de} equivale a {resultado:.2f} {unidad_a}\")"
      ],
      "metadata": {
        "id": "ediIt2PQUdyY"
      },
      "execution_count": 10,
      "outputs": []
    },
    {
      "cell_type": "code",
      "source": [],
      "metadata": {
        "id": "EHr-iwHQWbE5"
      },
      "execution_count": 6,
      "outputs": []
    }
  ]
}