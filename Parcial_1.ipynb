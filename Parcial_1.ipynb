{
  "nbformat": 4,
  "nbformat_minor": 0,
  "metadata": {
    "colab": {
      "provenance": [],
      "authorship_tag": "ABX9TyOqsuWSKEq+0oDE/ejUXSZX",
      "include_colab_link": true
    },
    "kernelspec": {
      "name": "python3",
      "display_name": "Python 3"
    },
    "language_info": {
      "name": "python"
    }
  },
  "cells": [
    {
      "cell_type": "markdown",
      "metadata": {
        "id": "view-in-github",
        "colab_type": "text"
      },
      "source": [
        "<a href=\"https://colab.research.google.com/github/leslyyuvicela/PrograIII-2024-Semi/blob/main/Parcial_1.ipynb\" target=\"_parent\"><img src=\"https://colab.research.google.com/assets/colab-badge.svg\" alt=\"Open In Colab\"/></a>"
      ]
    },
    {
      "cell_type": "markdown",
      "source": [
        "1. Desarrolle un algoritmo en Python que calcule el IMPUESTO A LAS\n",
        "ACTIVIDADES ECONOMICAS."
      ],
      "metadata": {
        "id": "f1OQMZHLJ2yB"
      }
    },
    {
      "cell_type": "code",
      "execution_count": 9,
      "metadata": {
        "colab": {
          "base_uri": "https://localhost:8080/"
        },
        "id": "tUp0_zMfJsk9",
        "outputId": "3f8b8095-e3d2-478e-b559-81942808656d"
      },
      "outputs": [
        {
          "output_type": "stream",
          "name": "stdout",
          "text": [
            "Introduce el monto de la actividad económica: 1875.79\n",
            "El valor a pagar por la actividad económica de $1875.79 es: $5.63\n"
          ]
        }
      ],
      "source": [
        "tarifas = [\n",
        "    {\"desde\": 0.01, \"hasta\": 500, \"precio\": 1.5, \"adicional\": 0},\n",
        "    {\"desde\": 500.01, \"hasta\": 1000, \"precio\": 1.5, \"adicional\": 3},\n",
        "    {\"desde\": 1000.01, \"hasta\": 2000, \"precio\": 3, \"adicional\": 3},\n",
        "    {\"desde\": 2000.01, \"hasta\": 3000, \"precio\": 6, \"adicional\": 3},\n",
        "    {\"desde\": 3000.01, \"hasta\": 6000, \"precio\": 9, \"adicional\": 2},\n",
        "    {\"desde\": 8000.01, \"hasta\": 18000, \"precio\": 15, \"adicional\": 2},\n",
        "    {\"desde\": 18000.01, \"hasta\": 30000, \"precio\": 39, \"adicional\": 2},\n",
        "    {\"desde\": 30000.01, \"hasta\": 60000, \"precio\": 63, \"adicional\": 1},\n",
        "    {\"desde\": 60000.01, \"hasta\": 100000, \"precio\": 93, \"adicional\": 0.8},\n",
        "    {\"desde\": 100000.01, \"hasta\": 200000, \"precio\": 125, \"adicional\": 0.7},\n",
        "    {\"desde\": 200000.01, \"hasta\": 300000, \"precio\": 195, \"adicional\": 0.6},\n",
        "    {\"desde\": 300000.01, \"hasta\": 400000, \"precio\": 255, \"adicional\": 0.45},\n",
        "    {\"desde\": 400000.01, \"hasta\": 500000, \"precio\": 300, \"adicional\": 0.4},\n",
        "    {\"desde\": 500000.01, \"hasta\": 1000000, \"precio\": 340, \"adicional\": 0.3},\n",
        "    {\"desde\": 1000000.01, \"hasta\": 999999999, \"precio\": 490, \"adicional\": 0.18},\n",
        "]\n",
        "\n",
        "def calcular_impuesto(monto):\n",
        "\n",
        "    for tarifa in tarifas:\n",
        "        if tarifa[\"desde\"] <= monto <= tarifa[\"hasta\"]:\n",
        "\n",
        "            diferencia = monto - tarifa[\"desde\"]\n",
        "            impuesto = diferencia / 1000 * tarifa[\"adicional\"] + tarifa[\"precio\"]\n",
        "            return round(impuesto, 2)\n",
        "    return 0\n",
        "\n",
        "monto = float(input(\"Introduce el monto de la actividad económica: \"))\n",
        "impuesto = calcular_impuesto(monto)\n",
        "print(f\"El valor a pagar por la actividad económica de ${monto} es: ${impuesto}\")\n"
      ]
    },
    {
      "cell_type": "markdown",
      "source": [
        "Conversor de area"
      ],
      "metadata": {
        "id": "b1IIPzqWUaC9"
      }
    },
    {
      "cell_type": "code",
      "source": [
        "\n",
        "conversiones = {\n",
        "    \"Metros cuadrados\": 1,\n",
        "    \"Pies cuadrados\": 10.7639104,\n",
        "    \"Yardas cuadradas\": 1.19599005,\n",
        "    \"Manzanas\": 7000,\n",
        "    \"Tareas\": 437.5,\n",
        "    \"Hectáreas\": 0.0001,\n",
        "    \"Vara cuadrada\": 0.77\n",
        "}\n",
        "\n",
        "def convertir_area(valor, unidad_origen, unidad_destino):\n",
        "\n",
        "    valor_en_metros = valor * conversiones[unidad_origen]\n",
        "\n",
        "\n",
        "    valor_convertido = valor_en_metros / conversiones[unidad_destino]\n",
        "\n",
        "    return valor_convertido\n",
        "\n",
        "\n",
        "unidades = list(conversiones.keys())\n",
        "\n",
        "\n",
        "print(\"Selecciona la unidad de área:\")\n",
        "for i, unidad in enumerate(unidades, 1):\n",
        "    print(f\"{i}. {unidad}\")\n",
        "\n",
        "\n",
        "unidad_origen = int(input(\"Convertir de: \")) - 1\n",
        "unidad_destino = int(input(\"Convertir a: \")) - 1\n",
        "valor = float(input(\"Introduce el valor del área: \"))\n",
        "\n",
        "\n",
        "unidad_origen_nombre = unidades[unidad_origen]\n",
        "unidad_destino_nombre = unidades[unidad_destino]\n",
        "\n",
        "\n",
        "resultado = convertir_area(valor, unidad_origen_nombre, unidad_destino_nombre)\n",
        "print(f\"{valor} {unidad_origen_nombre} son {resultado} {unidad_destino_nombre}.\")\n"
      ],
      "metadata": {
        "colab": {
          "base_uri": "https://localhost:8080/"
        },
        "id": "rHKJPu3kUb35",
        "outputId": "420b6bb7-4f19-4d81-dcf2-2157646eb5d0"
      },
      "execution_count": 43,
      "outputs": [
        {
          "output_type": "stream",
          "name": "stdout",
          "text": [
            "Selecciona la unidad de área:\n",
            "1. Metros cuadrados\n",
            "2. Pies cuadrados\n",
            "3. Yardas cuadradas\n",
            "4. Manzanas\n",
            "5. Tareas\n",
            "6. Hectáreas\n",
            "7. Vara cuadrada\n",
            "Convertir de: 1\n",
            "Convertir a: 7\n",
            "Introduce el valor del área: 1\n",
            "1.0 Metros cuadrados son 1.2987012987012987 Vara cuadrada.\n"
          ]
        }
      ]
    },
    {
      "cell_type": "markdown",
      "source": [
        "Cajero automatico."
      ],
      "metadata": {
        "id": "Mba49mP2TlN4"
      }
    },
    {
      "cell_type": "code",
      "source": [
        "def calcular_billetes_monedas(cantidad):\n",
        "\n",
        "    billetes = [20, 10, 5, 1]\n",
        "    monedas = [0.25, 0.1, 0.05, 0.01]\n",
        "\n",
        "    resultado = []\n",
        "\n",
        "\n",
        "    for billete in billetes:\n",
        "        if cantidad >= billete:\n",
        "            num_billetes = int(cantidad // billete)\n",
        "            resultado.append((num_billetes, billete, \"billete\" if num_billetes == 1 else \"billetes\"))\n",
        "            cantidad -= num_billetes * billete\n",
        "\n",
        "    for moneda in monedas:\n",
        "        if cantidad >= moneda:\n",
        "            num_monedas = int(round(cantidad / moneda))\n",
        "            resultado.append((num_monedas, moneda, \"moneda\" if num_monedas == 1 else \"monedas\"))\n",
        "            cantidad -= num_monedas * moneda\n",
        "\n",
        "    return resultado\n",
        "\n",
        "cantidad_retirar = float(input(\"Ingrese la cantidad a retirar: \"))\n",
        "\n",
        "resultado = calcular_billetes_monedas(cantidad_retirar)\n",
        "\n",
        "print(\"\\nDesglose de billetes y monedas:\")\n",
        "for cantidad, valor, tipo in resultado:\n",
        "    if tipo == \"billete\" or tipo == \"billetes\":\n",
        "        print(f\"\\n{cantidad} {tipo} de a {int(valor)}\")\n",
        "    else:\n",
        "        print(f\"\\n{cantidad} {tipo} de {valor:.2f} ctvs.\")\n"
      ],
      "metadata": {
        "colab": {
          "base_uri": "https://localhost:8080/"
        },
        "id": "bhkeEL66ToOE",
        "outputId": "0d1849dd-9c0f-439f-bd0b-ba1e628f02fc"
      },
      "execution_count": 51,
      "outputs": [
        {
          "output_type": "stream",
          "name": "stdout",
          "text": [
            "Ingrese la cantidad a retirar: 84\n",
            "\n",
            "Desglose de billetes y monedas:\n",
            "\n",
            "4 billetes de a 20\n",
            "\n",
            "4 billetes de a 1\n"
          ]
        }
      ]
    }
  ]
}