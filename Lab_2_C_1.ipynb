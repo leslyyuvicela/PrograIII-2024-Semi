{
  "nbformat": 4,
  "nbformat_minor": 0,
  "metadata": {
    "colab": {
      "provenance": [],
      "authorship_tag": "ABX9TyNbsoFwK6BCIexUTCRJlur4",
      "include_colab_link": true
    },
    "kernelspec": {
      "name": "python3",
      "display_name": "Python 3"
    },
    "language_info": {
      "name": "python"
    }
  },
  "cells": [
    {
      "cell_type": "markdown",
      "metadata": {
        "id": "view-in-github",
        "colab_type": "text"
      },
      "source": [
        "<a href=\"https://colab.research.google.com/github/leslyyuvicela/PrograIII-2024-Semi/blob/main/Lab_2_C_1.ipynb\" target=\"_parent\"><img src=\"https://colab.research.google.com/assets/colab-badge.svg\" alt=\"Open In Colab\"/></a>"
      ]
    },
    {
      "cell_type": "markdown",
      "source": [
        "**EJERCICIO 1.** SUELDO CON DEDUCCIONES DE LA LEY."
      ],
      "metadata": {
        "id": "AqFxpg-AbnnR"
      }
    },
    {
      "cell_type": "markdown",
      "source": [
        "Definición de funciones.\n",
        "\n",
        "Calculo del ISR"
      ],
      "metadata": {
        "id": "tGLsRpS_b0Mn"
      }
    },
    {
      "cell_type": "code",
      "execution_count": null,
      "metadata": {
        "id": "RctDI9vckk0e"
      },
      "outputs": [],
      "source": [
        "def calcular_isr(sueldo_restante, tipo_pago):\n",
        "    tramos = {\n",
        "        \"Mensual\": [\n",
        "            (472.00, 0, 0),            # Tramo I\n",
        "            (895.24, 17.67, 0.10),    # Tramo II\n",
        "            (2038.10, 60.00, 0.20),   # Tramo III\n",
        "            (float(\"inf\"), 288.57, 0.30)  # Tramo IV\n",
        "        ],\n",
        "        \"Quincenal\": [\n",
        "            (236.00, 0, 0),            # Tramo I\n",
        "            (447.62, 8.83, 0.10),     # Tramo II\n",
        "            (1019.05, 30.00, 0.20),   # Tramo III\n",
        "            (float(\"inf\"), 144.28, 0.30)  # Tramo IV\n",
        "        ],\n",
        "        \"Semanal\": [\n",
        "            (118.00, 0, 0),            # Tramo I\n",
        "            (223.81, 4.42, 0.10),     # Tramo II\n",
        "            (509.52, 15.00, 0.20),    # Tramo III\n",
        "            (float(\"inf\"), 72.14, 0.30)  # Tramo IV\n",
        "        ]\n",
        "    }\n",
        "\n",
        "    for i, (limite, cuota_fija, porcentaje) in enumerate(tramos[tipo_pago]):\n",
        "        if sueldo_restante <= limite:\n",
        "            limite_inferior = tramos[tipo_pago][i-1][0] if i > 0 else 0\n",
        "            exceso = sueldo_restante - limite_inferior\n",
        "            isr = round(cuota_fija + exceso * porcentaje, 2)\n",
        "            return isr\n",
        "\n",
        "    return 0.00"
      ]
    },
    {
      "cell_type": "markdown",
      "source": [
        "Función de deducciones."
      ],
      "metadata": {
        "id": "QyXGDI4pckeI"
      }
    },
    {
      "cell_type": "code",
      "source": [
        "def calcular_deducciones(sueldo, tipo_pago):\n",
        "    # Calcular AFP\n",
        "    afp = round(sueldo * 0.0625, 2)\n",
        "\n",
        "    # Calcular ISSS\n",
        "    iss = round(min(sueldo, 1000) * 0.03, 2)\n",
        "    iss = min(iss, 30)  # Techo máximo de $30\n",
        "\n",
        "    # Calcular ISR (después de quitar AFP y ISSS)\n",
        "    sueldo_restante = sueldo - afp - iss\n",
        "    isr = calcular_isr(sueldo_restante, tipo_pago)\n",
        "\n",
        "    # Calcular total de deducciones y sueldo neto\n",
        "    total_deducciones = round(iss + afp + isr, 2)\n",
        "    sueldo_neto = round(sueldo - total_deducciones, 2)\n",
        "\n",
        "    return iss, afp, isr, total_deducciones, sueldo_neto"
      ],
      "metadata": {
        "id": "VWKbfvSNchZF",
        "collapsed": true
      },
      "execution_count": null,
      "outputs": []
    },
    {
      "cell_type": "markdown",
      "source": [
        "Función principal."
      ],
      "metadata": {
        "id": "jsmUzq4Hlsw7"
      }
    },
    {
      "cell_type": "code",
      "source": [
        "from IPython.display import clear_output\n",
        "\n",
        "def principal():\n",
        "\n",
        "    while True:\n",
        "       try:\n",
        "            sueldo = float(input(\"Ingrese su sueldo: $\"))\n",
        "            if sueldo <= 0:\n",
        "                raise ValueError(\"El sueldo debe ser un número positivo.\")\n",
        "            break\n",
        "       except ValueError as e:\n",
        "            print(f\"Entrada inválida: {e}. Intente nuevamente.\")\n",
        "\n",
        "    print(\"\\nSeleccione el tipo de pago:\")\n",
        "    print(\"1. Mensual\")\n",
        "    print(\"2. Quincenal\")\n",
        "    print(\"3. Semanal\")\n",
        "\n",
        "    while True:\n",
        "        tipo_pago = input(\"Ingrese el número correspondiente al tipo de pago: \")\n",
        "        if tipo_pago == \"1\":\n",
        "            tipo_pago = \"Mensual\"\n",
        "            break\n",
        "        elif tipo_pago == \"2\":\n",
        "            tipo_pago = \"Quincenal\"\n",
        "            break\n",
        "        elif tipo_pago == \"3\":\n",
        "            tipo_pago = \"Semanal\"\n",
        "            break\n",
        "        else:\n",
        "            print(\"Entrada inválida. Por favor, ingrese 1, 2 o 3.\")\n",
        "\n",
        "    iss, afp, isr, total_deducciones, sueldo_neto = calcular_deducciones(sueldo, tipo_pago)\n",
        "\n",
        "    print(\"\\nResumen de Deducciones:\")\n",
        "    print(f\"ISSS: ${iss:.2f}\")\n",
        "    print(f\"AFP: ${afp:.2f}\")\n",
        "    print(f\"ISR: ${isr:.2f}\")\n",
        "    print(f\"Total de deducciones: ${total_deducciones:.2f}\")\n",
        "    print(f\"Sueldo Neto: ${sueldo_neto:.2f}\")\n",
        "\n",
        "# Ejecutar la función principal\n",
        "\n",
        "while True:\n",
        "    principal()\n",
        "    continuar = input(\"\\n¿Desea calcular otro sueldo? (s/n): \").lower()\n",
        "    if continuar == 'n':\n",
        "        print(\"¡Gracias por usar el programa!\")\n",
        "        break\n",
        "    elif continuar == 's':\n",
        "        clear_output()  # Limpia la pantalla antes de continuar\n",
        "    else:\n",
        "        print(\"Entrada inválida. Solo se acepta 's' para continuar o 'n' para salir.\")"
      ],
      "metadata": {
        "colab": {
          "base_uri": "https://localhost:8080/"
        },
        "id": "vxq_cbZKl0QD",
        "outputId": "770101d9-a8b2-4402-9850-3129bbffe960",
        "collapsed": true
      },
      "execution_count": null,
      "outputs": [
        {
          "output_type": "stream",
          "name": "stdout",
          "text": [
            "Ingrese su sueldo: $800\n",
            "\n",
            "Seleccione el tipo de pago:\n",
            "1. Mensual\n",
            "2. Quincenal\n",
            "3. Semanal\n",
            "Ingrese el número correspondiente al tipo de pago: 2\n",
            "\n",
            "Resumen de Deducciones:\n",
            "ISSS: $24.00\n",
            "AFP: $50.00\n",
            "ISR: $85.68\n",
            "Total de deducciones: $159.68\n",
            "Sueldo Neto: $640.32\n",
            "\n",
            "¿Desea calcular otro sueldo? (s/n): n\n",
            "¡Gracias por usar el programa!\n"
          ]
        }
      ]
    },
    {
      "cell_type": "markdown",
      "source": [
        "**EJERCICIO 2**. TARIFA POR MTS. CONSUMIDOS DE AGUA."
      ],
      "metadata": {
        "id": "JnzXoG0NAnnd"
      }
    },
    {
      "cell_type": "markdown",
      "source": [
        "Función para el valor a pagar."
      ],
      "metadata": {
        "id": "Ypm5wPpW4GdY"
      }
    },
    {
      "cell_type": "code",
      "source": [
        "def calcular_valor_agua(consumo):\n",
        "    if consumo <= 0:\n",
        "        return \"El consumo debe ser un número positivo mayor a cero.\"\n",
        "\n",
        "    valor_total = 6.00\n",
        "\n",
        "    if consumo <= 18:\n",
        "        return valor_total\n",
        "    elif consumo <= 28:\n",
        "        exceso = consumo - 18\n",
        "        valor_total += exceso * 0.45\n",
        "    else:\n",
        "        exceso_28 = consumo - 28\n",
        "        exceso_18 = 10\n",
        "        valor_total += exceso_28 * 0.65 + exceso_18 * 0.45\n",
        "\n",
        "    valor_total = round(valor_total, 2)\n",
        "\n",
        "    return valor_total"
      ],
      "metadata": {
        "id": "CyLPzEt8AsKK"
      },
      "execution_count": null,
      "outputs": []
    },
    {
      "cell_type": "markdown",
      "source": [
        "Función para pedir el consumo."
      ],
      "metadata": {
        "id": "-204N1pq4NXv"
      }
    },
    {
      "cell_type": "code",
      "source": [
        "def pedir_consumo():\n",
        "    while True:\n",
        "        try:\n",
        "            consumo = float(input(\"Ingrese el número de metros consumidos: \"))\n",
        "            if consumo <= 0:\n",
        "                print(\"El consumo debe ser un número positivo mayor a cero. Inténtelo de nuevo.\")\n",
        "            else:\n",
        "                return consumo\n",
        "        except ValueError:\n",
        "            print(\"Entrada inválida. Por favor, ingrese un número válido.\")"
      ],
      "metadata": {
        "id": "P5VLfmIlAudq"
      },
      "execution_count": null,
      "outputs": []
    },
    {
      "cell_type": "markdown",
      "source": [
        "Función principal."
      ],
      "metadata": {
        "id": "B9IJ-yYD4Te1"
      }
    },
    {
      "cell_type": "code",
      "source": [
        "from IPython.display import clear_output\n",
        "\n",
        "def principal():\n",
        "    while True:\n",
        "        clear_output()  # Limpiar pantalla\n",
        "        consumo = pedir_consumo()\n",
        "        valor_a_pagar = calcular_valor_agua(consumo)\n",
        "        print(f\"Valor a pagar: ${valor_a_pagar:.2f}\")\n",
        "\n",
        "        while True:\n",
        "            continuar = input(\"\\n¿Desea calcular otro consumo? (s/n): \").lower()\n",
        "            if continuar == 's':\n",
        "                break  # Se continúa el ciclo para un nuevo cálculo\n",
        "            elif continuar == 'n':\n",
        "                print(\"¡Gracias por usar el programa!\")\n",
        "                return  # Termina el programa\n",
        "            else:\n",
        "                print(\"Opción inválida. Por favor, ingrese 's' para continuar o 'n' para salir.\")\n",
        "\n",
        "# Ejecutar la función principal\n",
        "\n",
        "principal()"
      ],
      "metadata": {
        "colab": {
          "base_uri": "https://localhost:8080/"
        },
        "id": "Bfnx_4LOAzOl",
        "outputId": "98caaa23-18bf-44f8-f2c8-fcdd3bab7d1e",
        "collapsed": true
      },
      "execution_count": null,
      "outputs": [
        {
          "output_type": "stream",
          "name": "stdout",
          "text": [
            "Ingrese el número de metros consumidos: 44\n",
            "Valor a pagar: $20.90\n",
            "\n",
            "¿Desea calcular otro consumo? (s/n): n\n",
            "¡Gracias por usar el programa!\n"
          ]
        }
      ]
    },
    {
      "cell_type": "markdown",
      "source": [
        "**EJERCICIO 3**. TABLA DE ACUMULACIÓN."
      ],
      "metadata": {
        "id": "GbG_Yne0H7iE"
      }
    },
    {
      "cell_type": "markdown",
      "source": [
        "Función para calcular la acumulación. Formula de Gauss."
      ],
      "metadata": {
        "id": "1YAgGnQD4kTe"
      }
    },
    {
      "cell_type": "code",
      "source": [
        "def calcular_acumulacion(meses):\n",
        "    if meses <= 0:\n",
        "        return \"El número de meses debe ser positivo mayor a cero.\"\n",
        "    return (meses * (meses + 1)) // 2"
      ],
      "metadata": {
        "id": "WS_ch3Y5H9NY"
      },
      "execution_count": null,
      "outputs": []
    },
    {
      "cell_type": "markdown",
      "source": [
        "Función para pedir los meses."
      ],
      "metadata": {
        "id": "snUOlPiO4zQs"
      }
    },
    {
      "cell_type": "code",
      "source": [
        "def pedir_meses():\n",
        "    while True:\n",
        "        try:\n",
        "            meses = int(input(\"Ingrese el número de meses: \"))\n",
        "            if meses <= 0:\n",
        "                print(\"El número de meses debe ser positivo y mayor a cero. Inténtelo de nuevo.\")\n",
        "            else:\n",
        "                return meses\n",
        "        except ValueError:\n",
        "            print(\"Entrada inválida. Por favor, ingrese un número entero válido.\")"
      ],
      "metadata": {
        "id": "fKE7QyZZH_kN"
      },
      "execution_count": null,
      "outputs": []
    },
    {
      "cell_type": "markdown",
      "source": [
        "Función principal."
      ],
      "metadata": {
        "id": "mQRWgnQS442t"
      }
    },
    {
      "cell_type": "code",
      "source": [
        "from IPython.display import clear_output\n",
        "\n",
        "# Función principal ajustada\n",
        "def principal():\n",
        "    while True:\n",
        "        meses = pedir_meses()\n",
        "        acumulacion = calcular_acumulacion(meses)\n",
        "\n",
        "        print(f\"\\nMeses: {meses}\")\n",
        "        print(f\"Acumulación: {acumulacion}\")\n",
        "\n",
        "        # Preguntar si el usuario desea continuar\n",
        "        continuar = input(\"\\n¿Desea calcular otra acumulación de meses? (s/n): \").lower()\n",
        "        if continuar == 'n':\n",
        "            print(\"\\n¡Gracias por usar el programa!\")\n",
        "            break\n",
        "        elif continuar == 's':\n",
        "            clear_output()  # Limpiar la pantalla\n",
        "        else:\n",
        "            print(\"Opción inválida. Por favor, ingrese 's' para continuar o 'n' para salir.\")\n",
        "\n",
        "# Ejecutar la función principal\n",
        "\n",
        "principal()"
      ],
      "metadata": {
        "colab": {
          "base_uri": "https://localhost:8080/"
        },
        "id": "vwz2n38xIEBy",
        "outputId": "b313c7ef-8778-4d5f-e63e-cdcff14db4e8",
        "collapsed": true
      },
      "execution_count": null,
      "outputs": [
        {
          "output_type": "stream",
          "name": "stdout",
          "text": [
            "Ingrese el número de meses: 4\n",
            "\n",
            "Meses: 4\n",
            "Acumulación: 10\n",
            "\n",
            "¿Desea calcular otra acumulación de meses? (s/n): n\n",
            "\n",
            "¡Gracias por usar el programa!\n"
          ]
        }
      ]
    },
    {
      "cell_type": "markdown",
      "source": [
        "**EJERCICIO 4**. CONVERSORES."
      ],
      "metadata": {
        "id": "YQEgS2npGBgc"
      }
    },
    {
      "cell_type": "markdown",
      "source": [
        "Definición de conversiones."
      ],
      "metadata": {
        "id": "itrsiivGGIet"
      }
    },
    {
      "cell_type": "code",
      "source": [
        "from IPython.display import clear_output\n",
        "\n",
        "conversiones = {\n",
        "    \"Monedas\": {\"Dólar\": 1, \"Euro\": 0.90, \"Libra esterlina\": 0.77, \"Yen japonés\": 145.56, \"Quetzal\": 7.73, \"Lempira\": 24.73,\n",
        "                \"Colón Salvadoreño\": 8.73, \"Córdoba\": 36.62, \"Colón Costarricense\": 516.97, \"MXN\": 19.16},\n",
        "\n",
        "    \"Longitud\": {\"metros\": 1, \"kilómetros\": 0.001, \"centímetros\": 100, \"milímetros\": 1000, \"pies\": 3.28084, \"yardas\": 1.09361, \"millas\": 0.000621371,\n",
        "                 \"Pulgadas\": 39.3701, \"millas náuticas\": 0.000539957, \"micrómetros\": 1000000},\n",
        "\n",
        "    \"Masa\": {\"kilogramos\": 1, \"gramos\": 1000, \"miligramos\": 1000000, \"toneladas\": 0.001, \"libras\": 2.20462, \"onzas\": 35.274, \"stones\": 0.157473, \"quintales\": 0.01,\n",
        "             \"Toneladas largas\":0.000984207, \"Toneladas cortas\":0.00110231},\n",
        "\n",
        "    \"Almacenamiento\": {\"Bits\":1, \"bytes\": 8, \"Kilobytes\":8/1000, \"Megabytes\":8/10**6, \"Gigabytes\":8/10**9, \"Terabytes\":8/10**12,\n",
        "                       \"Kibibytes\":8/1024, \"Mebibytes\":8/1024**2,\"Gibibytes\":8/1024**3,\"Tebibytes\":8/1024**4},\n",
        "\n",
        "    \"Tiempo\": {\"minutos\": 1, \"segundos\": 60, \"horas\":1/60, \"días\": 1/(60*24), \"semanas\": 1/(60*24*7), \"meses\": 1/(60*24*30),\n",
        "               \"años\": 1/(60*24*365), \"milisegundos\": 60*1000, \"décadas\": 1/(60*24*365*10), \"siglos\": 1/(60*24*365*100)},\n",
        "\n",
        "    \"Volumen\": {\"litros\": 1, \"mililitros\": 1000, \"metros cúbicos\": 0.001,  \"galones\": 0.264172, \"pintas\": 2.11338, \"cuartos\": 1.05669,\n",
        "                \"onzas líquidas\": 33.814, \"tazas\": 4.22675, \"cucharadas\": 67.628, \"cucharaditas\": 202.884},\n",
        "\n",
        "    \"Área\": {\"Km cuadrados\":1,\"Hectáreas\":100,\"Metros cuadrados\":10**6,\"Pies cuadrados\":10.764*10**6,\"Yardas cuadradas\":1.196*10**6,\n",
        "             \"Acres\":247.105, \"Millas cuadradas\":0.386102,\"Pulgadas cuadradas\":1.55*10**9,\"Manzanas\":142.86,\"Tareas\":2285.71}\n",
        "}\n",
        "\n",
        "# Función para convertir\n",
        "def convertir(cantidad, unidad_de, unidad_a, tipo):\n",
        "    valor_base = cantidad / conversiones[tipo][unidad_de]\n",
        "    return valor_base * conversiones[tipo][unidad_a]\n"
      ],
      "metadata": {
        "id": "8ZGcODpQGHEY"
      },
      "execution_count": 34,
      "outputs": []
    },
    {
      "cell_type": "markdown",
      "source": [
        "Función para pedir el tipo de conversión."
      ],
      "metadata": {
        "id": "MOQKygVsWHce"
      }
    },
    {
      "cell_type": "code",
      "source": [
        "def principal():\n",
        "    tipo = seleccionar_tipo()\n",
        "    unidades = list(conversiones[tipo].keys())\n",
        "\n",
        "    print(\"\\nUnidades disponibles:\")\n",
        "    for i, unidad in enumerate(unidades):\n",
        "        print(f\"{i + 1}. {unidad}\")\n",
        "\n",
        "    unidad_de = seleccionar_unidad(\"Convertir de\", unidades)\n",
        "    unidad_a = seleccionar_unidad(\"Convertir a\", unidades)\n",
        "\n",
        "    while True:\n",
        "        try:\n",
        "            cantidad = float(input(f\"\\nIngrese la cantidad en {unidad_de}: \"))\n",
        "            break\n",
        "        except ValueError:\n",
        "            print(\"Entrada inválida. Ingrese un número válido.\")\n",
        "\n",
        "    resultado = convertir(cantidad, unidad_de, unidad_a, tipo)\n",
        "    print(f\"\\n{cantidad} {unidad_de} equivale a {resultado:.2f} {unidad_a}\")\n"
      ],
      "metadata": {
        "id": "_VXqTtpJWJA9"
      },
      "execution_count": 35,
      "outputs": []
    },
    {
      "cell_type": "markdown",
      "source": [
        "Función para pedir unidades."
      ],
      "metadata": {
        "id": "uSPb9Jr6Wg-5"
      }
    },
    {
      "cell_type": "code",
      "source": [
        "def seleccionar_tipo():\n",
        "    tipos = list(conversiones.keys())\n",
        "    print(\"\\nTipos de conversión disponibles:\")\n",
        "    for i, tipo in enumerate(tipos):\n",
        "        print(f\"{i + 1}. {tipo}\")\n",
        "\n",
        "    while True:\n",
        "        try:\n",
        "            seleccion = int(input(\"\\nSeleccione el tipo de conversión (número): \")) - 1\n",
        "            if 0 <= seleccion < len(tipos):\n",
        "                return tipos[seleccion]\n",
        "            else:\n",
        "                print(\"Selección inválida. Intente de nuevo.\")\n",
        "        except ValueError:\n",
        "            print(\"Entrada inválida. Ingrese un número válido.\")\n",
        "\n",
        "def seleccionar_unidad(mensaje, unidades):\n",
        "    while True:\n",
        "        try:\n",
        "            seleccion = int(input(f\"\\n{mensaje}: \")) - 1\n",
        "            if 0 <= seleccion < len(unidades):\n",
        "                return unidades[seleccion]\n",
        "            else:\n",
        "                print(\"Selección inválida. Intente de nuevo.\")\n",
        "        except ValueError:\n",
        "            print(\"Entrada inválida. Ingrese un número válido.\")\n"
      ],
      "metadata": {
        "id": "nih12jQiWkKB"
      },
      "execution_count": 36,
      "outputs": []
    },
    {
      "cell_type": "code",
      "source": [
        "def ejecutar_programa():\n",
        "    while True:\n",
        "        clear_output(wait=True)  # Limpiar la pantalla al comenzar cada ejecución\n",
        "        principal()\n",
        "        continuar = input(\"\\n¿Desea realizar otra conversión? (s/n): \").lower()\n",
        "        if continuar != 's':\n",
        "            print(\"¡Gracias por usar el programa!\")\n",
        "            break\n",
        "        clear_output(wait=True)  # Limpiar la pantalla antes de la siguiente conversión\n",
        "\n",
        "\n",
        "ejecutar_programa()"
      ],
      "metadata": {
        "colab": {
          "base_uri": "https://localhost:8080/"
        },
        "collapsed": true,
        "id": "BfXPeQprhywQ",
        "outputId": "a3cb904f-95e2-4466-eb46-44176fbff6d3"
      },
      "execution_count": 37,
      "outputs": [
        {
          "output_type": "stream",
          "name": "stdout",
          "text": [
            "\n",
            "Tipos de conversión disponibles:\n",
            "1. Monedas\n",
            "2. Longitud\n",
            "3. Masa\n",
            "4. Almacenamiento\n",
            "5. Tiempo\n",
            "6. Volumen\n",
            "7. Área\n",
            "\n",
            "Seleccione el tipo de conversión (número): 7\n",
            "\n",
            "Unidades disponibles:\n",
            "1. Km cuadrados\n",
            "2. Hectáreas\n",
            "3. Metros cuadrados\n",
            "4. Pies cuadrados\n",
            "5. Yardas cuadradas\n",
            "6. Acres\n",
            "7. Millas cuadradas\n",
            "8. Pulgadas cuadradas\n",
            "9. Manzanas\n",
            "10. Tareas\n",
            "\n",
            "Convertir de: 9\n",
            "\n",
            "Convertir a: 3\n",
            "\n",
            "Ingrese la cantidad en Manzanas: 1\n",
            "\n",
            "1.0 Manzanas equivale a 6999.86 Metros cuadrados\n",
            "\n",
            "¿Desea realizar otra conversión? (s/n): n\n",
            "¡Gracias por usar el programa!\n"
          ]
        }
      ]
    },
    {
      "cell_type": "markdown",
      "source": [
        "**EJERCICIO 5**. CONVERSOR PROPIO."
      ],
      "metadata": {
        "id": "Tqi_6TSS_0Yw"
      }
    },
    {
      "cell_type": "code",
      "source": [
        "from IPython.display import clear_output\n",
        "\n",
        "conversor = {\n",
        "    \"Productos\": {\"Artículos\": 1, \"Paquetes\": 20, \"Contenedores\": 1000, \"Lotes\": 10000},\n",
        "    \"Bebidas\": {\"Botellas\": 1, \"Paquetes\": 6, \"Cajas\": 24, \"Palets\": 1000}\n",
        "}\n",
        "\n",
        "def mostrar_magnitudes():\n",
        "    print(\"\\n   Categorias disponibles:\")\n",
        "    for i, magnitud in enumerate(conversor.keys(), start=1):\n",
        "        print(f\" \\n   {i}. {magnitud}\")\n",
        "\n",
        "def mostrar_unidades(magnitud):\n",
        "    print(f\"\\n   Unidades de {magnitud}:\")\n",
        "    for i, unidad in enumerate(conversor[magnitud].keys(), start=1):\n",
        "        print(f\"   {i}. {unidad}\")\n",
        "\n",
        "def obtener_opcion(tema, tipo):\n",
        "    while True:\n",
        "        try:\n",
        "            opcion = int(input(f\"\\nIngresa el número de la unidad para convertir {tipo}: \"))\n",
        "            if 1 <= opcion <= len(conversor[tema]):\n",
        "                return list(conversor[tema].keys())[opcion - 1]\n",
        "            else:\n",
        "                print(f\"\\nOpción inválida. Debes ingresar un número entre 1 y {len(conversor[tema])}.\")\n",
        "        except ValueError:\n",
        "            print(\"\\nDebes ingresar un número entero.\")\n",
        "\n",
        "def obtener_magnitud():\n",
        "    while True:\n",
        "        try:\n",
        "            magnitud_numero = int(input(\"\\nIngresa el número de la categoria que quieres convertir: \"))\n",
        "            if 1 <= magnitud_numero <= len(conversor):\n",
        "                return list(conversor.keys())[magnitud_numero - 1]\n",
        "            else:\n",
        "                print(f\"\\nOpción inválida. Debes ingresar un número entre 1 y {len(conversor)}.\")\n",
        "        except ValueError:\n",
        "            print(\"\\nDebes ingresar un número entero.\")\n",
        "\n",
        "def obtener_cantidad():\n",
        "    while True:\n",
        "        try:\n",
        "            cantidad = float(input(\"\\nIngresa la cantidad: \"))\n",
        "            if cantidad > 0:\n",
        "                return cantidad\n",
        "            else:\n",
        "                print(\"\\nLa cantidad debe ser mayor que cero.\")\n",
        "        except ValueError:\n",
        "            print(\"\\nDebes ingresar un número válido.\")\n",
        "\n",
        "def convertir(magnitud, de, a, cantidad):\n",
        "    valor_de = conversor[magnitud][de]\n",
        "    valor_a = conversor[magnitud][a]\n",
        "\n",
        "    # Convertir cantidad de 'de' a 'a'\n",
        "    resultado = cantidad * valor_de // valor_a\n",
        "    residuo = cantidad * valor_de % valor_a\n",
        "\n",
        "    # Mostrar el resultado\n",
        "    print(\"\\n   Resultado de la conversión:\")\n",
        "    msg = f\"   {cantidad} {de} equivalen a {int(resultado)} {a}\"\n",
        "    if residuo >= 1:\n",
        "        msg += f\" y {int(residuo)} {de}\"\n",
        "    print(msg)\n",
        "    print()"
      ],
      "metadata": {
        "id": "QTjbqDqo-gR5"
      },
      "execution_count": null,
      "outputs": []
    },
    {
      "cell_type": "code",
      "source": [
        "def iniciar_conversor():\n",
        "    while True:\n",
        "        mostrar_magnitudes()\n",
        "        magnitud = obtener_magnitud()\n",
        "        mostrar_unidades(magnitud)\n",
        "        unidad_de = obtener_opcion(magnitud, \"de\")\n",
        "        unidad_a = obtener_opcion(magnitud, \"a\")\n",
        "        cantidad = obtener_cantidad()\n",
        "\n",
        "        convertir(magnitud, unidad_de, unidad_a, cantidad)\n",
        "\n",
        "        # Preguntar si desea continuar\n",
        "        while True:\n",
        "            continuar = input(\"\\n¿Deseas realizar otra conversión? (s/n): \").strip().lower()\n",
        "            if continuar in ('s', 'n'):\n",
        "                break\n",
        "            print(\"\\nDebes ingresar 's' para continuar o 'n' para salir.\")\n",
        "\n",
        "        if continuar == 'n':\n",
        "            print(\"\\n¡Gracias por usar el conversor!\")\n",
        "            break\n",
        "\n",
        "        clear_output(wait=True)  # Limpia la pantalla antes de mostrar el menú nuevamente\n",
        "\n",
        "# Iniciar el conversor\n",
        "iniciar_conversor()"
      ],
      "metadata": {
        "colab": {
          "base_uri": "https://localhost:8080/"
        },
        "collapsed": true,
        "id": "oueSHpKFAWq0",
        "outputId": "adb1ebc4-64e4-45da-8b26-2f70a3f1d518"
      },
      "execution_count": null,
      "outputs": [
        {
          "output_type": "stream",
          "name": "stdout",
          "text": [
            "\n",
            "   Categorias disponibles:\n",
            " \n",
            "   1. Productos\n",
            " \n",
            "   2. Bebidas\n",
            "\n",
            "Ingresa el número de la categoria que quieres convertir: 1\n",
            "\n",
            "   Unidades de Productos:\n",
            "   1. Artículos\n",
            "   2. Paquetes\n",
            "   3. Contenedores\n",
            "   4. Lotes\n",
            "\n",
            "Ingresa el número de la unidad para convertir de: 2\n",
            "\n",
            "Ingresa el número de la unidad para convertir a: 3\n",
            "\n",
            "Ingresa la cantidad: 50\n",
            "\n",
            "   Resultado de la conversión:\n",
            "   50.0 Paquetes equivalen a 1 Contenedores\n",
            "\n",
            "\n",
            "¿Deseas realizar otra conversión? (s/n): n\n",
            "\n",
            "¡Gracias por usar el conversor!\n"
          ]
        }
      ]
    },
    {
      "cell_type": "markdown",
      "source": [
        "**TAREA:**\n",
        "\n",
        "- Encontrar de una serie de numeros introducidos por el usuario la varianza\n",
        "\n"
      ],
      "metadata": {
        "id": "sDHzTZfrCs2I"
      }
    },
    {
      "cell_type": "code",
      "source": [
        "class Estadistica:\n",
        "    def media(self, serie):\n",
        "        if not serie:  # Verifica si la lista está vacía\n",
        "            return 0\n",
        "        suma = sum(serie)\n",
        "        return suma / len(serie)\n",
        "\n",
        "    def varianza(self, serie):\n",
        "        if not serie:  # Verifica si la lista está vacía\n",
        "            return 0\n",
        "        media = self.media(serie)\n",
        "        suma = sum((num - media) ** 2 for num in serie)\n",
        "        return suma / len(serie)\n",
        "\n",
        "def obtener_serie():\n",
        "    while True:\n",
        "        try:\n",
        "            n = int(input(\"¿Cuántos números va a ingresar? \"))\n",
        "            if n <= 0:\n",
        "                print(\"Debe ingresar un número positivo.\")\n",
        "                continue\n",
        "            break\n",
        "        except ValueError:\n",
        "            print(\"Por favor, ingrese un número entero válido.\")\n",
        "\n",
        "    serie = []\n",
        "    for _ in range(n):\n",
        "        while True:\n",
        "            try:\n",
        "                num = int(input(\"Número: \"))\n",
        "                serie.append(num)\n",
        "                break\n",
        "            except ValueError:\n",
        "                print(\"Por favor, ingrese un número entero válido.\")\n",
        "    return serie\n",
        "\n",
        "# Crear objeto de la clase Estadistica\n",
        "objEstadistica = Estadistica()\n",
        "\n",
        "# Obtener datos del usuario\n",
        "serie = obtener_serie()\n",
        "\n",
        "# Calcular y mostrar la varianza\n",
        "print(\"La varianza es: \", round(objEstadistica.varianza(serie), 3))"
      ],
      "metadata": {
        "colab": {
          "base_uri": "https://localhost:8080/"
        },
        "collapsed": true,
        "id": "Xj9TtzG_DMkQ",
        "outputId": "3ef24f80-3c96-4107-f5b3-f0c6d9fd8e4b"
      },
      "execution_count": null,
      "outputs": [
        {
          "output_type": "stream",
          "name": "stdout",
          "text": [
            "¿Cuántos números va a ingresar? 10\n",
            "Número: 1\n",
            "Número: 1\n",
            "Número: 1\n",
            "Número: 2\n",
            "Número: 2\n",
            "Número: 3\n",
            "Número: 3\n",
            "Número: 3\n",
            "Número: 3\n",
            "Número: 4\n",
            "La varianza es:  1.01\n"
          ]
        }
      ]
    },
    {
      "cell_type": "markdown",
      "source": [
        "- Encontrar de una serie de numeros introducidos por el usuario la frecuencuia."
      ],
      "metadata": {
        "id": "89vqkOdoFG71"
      }
    },
    {
      "cell_type": "code",
      "source": [
        "# Solicitar los números al usuario\n",
        "numeros = input(\"Introduce una serie de números separados por espacios: \")\n",
        "\n",
        "# Convertir la cadena de entrada en una lista de números\n",
        "numeros_lista = list(map(int, numeros.split()))\n",
        "\n",
        "# Calcular la frecuencia absoluta de cada número\n",
        "frecuencia_absoluta = {}\n",
        "for numero in numeros_lista:\n",
        "    if numero in frecuencia_absoluta:\n",
        "        frecuencia_absoluta[numero] += 1\n",
        "    else:\n",
        "        frecuencia_absoluta[numero] = 1\n",
        "\n",
        "# Calcular la frecuencia relativa de cada número\n",
        "frecuencia_relativa = {numero: freq / len(numeros_lista) for numero, freq in frecuencia_absoluta.items()}\n",
        "\n",
        "# Mostrar los resultados\n",
        "print(\"\\nFrecuencia Absoluta:\")\n",
        "for numero, freq in frecuencia_absoluta.items():\n",
        "    print(f\"Número {numero}: {freq} veces\")\n",
        "\n",
        "print(\"\\nFrecuencia Relativa:\")\n",
        "for numero, freq_rel in frecuencia_relativa.items():\n",
        "    print(f\"Número {numero}: {freq_rel:.2f}\")\n"
      ],
      "metadata": {
        "colab": {
          "base_uri": "https://localhost:8080/"
        },
        "collapsed": true,
        "id": "hJ-3MEjIFEmI",
        "outputId": "e5a1dd27-7188-425f-db11-9aeb7664eab3"
      },
      "execution_count": null,
      "outputs": [
        {
          "output_type": "stream",
          "name": "stdout",
          "text": [
            "Introduce una serie de números separados por espacios: 1 1 1 2 2 3 3 3 3 4\n",
            "\n",
            "Frecuencia Absoluta:\n",
            "Número 1: 3 veces\n",
            "Número 2: 2 veces\n",
            "Número 3: 4 veces\n",
            "Número 4: 1 veces\n",
            "\n",
            "Frecuencia Relativa:\n",
            "Número 1: 0.30\n",
            "Número 2: 0.20\n",
            "Número 3: 0.40\n",
            "Número 4: 0.10\n"
          ]
        }
      ]
    },
    {
      "cell_type": "markdown",
      "source": [
        "- Escriba un programa que determine si una palabra introducida por el usuario es palindrome. Ejem. Ana, Oso, Oro, Reconocer, etc."
      ],
      "metadata": {
        "id": "S1eXsqPcFphA"
      }
    },
    {
      "cell_type": "code",
      "source": [
        "def es_palindromo(palabra):\n",
        "    # Normalizar la palabra: eliminar espacios y convertir a minúsculas\n",
        "    palabra = palabra.replace(\" \", \"\").lower()\n",
        "    # Comparar la palabra con su reverso\n",
        "    return palabra == palabra[::-1]\n",
        "\n",
        "def principal():\n",
        "    palabra = input(\"Introduce una palabra para verificar si es palíndromo: \")\n",
        "    if es_palindromo(palabra):\n",
        "        print(f\"La palabra '{palabra}' es un palíndromo.\")\n",
        "    else:\n",
        "        print(f\"La palabra '{palabra}' no es un palíndromo.\")\n",
        "\n",
        "# Ejecutar el programa\n",
        "principal()\n"
      ],
      "metadata": {
        "colab": {
          "base_uri": "https://localhost:8080/"
        },
        "id": "D07O2efHFydF",
        "outputId": "bd6dcb4e-0052-44de-929b-eb6fd8278bbf"
      },
      "execution_count": null,
      "outputs": [
        {
          "output_type": "stream",
          "name": "stdout",
          "text": [
            "Introduce una palabra para verificar si es palíndromo: reconocer\n",
            "La palabra 'reconocer' es un palíndromo.\n"
          ]
        }
      ]
    }
  ]
}