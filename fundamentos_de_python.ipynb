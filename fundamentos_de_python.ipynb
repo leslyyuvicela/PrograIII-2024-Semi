{
  "nbformat": 4,
  "nbformat_minor": 0,
  "metadata": {
    "colab": {
      "provenance": [],
      "authorship_tag": "ABX9TyM5jvjDw8FDci9PdhbP7f8C",
      "include_colab_link": true
    },
    "kernelspec": {
      "name": "python3",
      "display_name": "Python 3"
    },
    "language_info": {
      "name": "python"
    }
  },
  "cells": [
    {
      "cell_type": "markdown",
      "metadata": {
        "id": "view-in-github",
        "colab_type": "text"
      },
      "source": [
        "<a href=\"https://colab.research.google.com/github/leslyyuvicela/PrograIII-2024-Semi/blob/main/fundamentos_de_python.ipynb\" target=\"_parent\"><img src=\"https://colab.research.google.com/assets/colab-badge.svg\" alt=\"Open In Colab\"/></a>"
      ]
    },
    {
      "cell_type": "code",
      "execution_count": null,
      "metadata": {
        "colab": {
          "base_uri": "https://localhost:8080/"
        },
        "id": "fwJl7wKY4fvU",
        "outputId": "7e29209d-6449-45ad-9c14-5b5efad8dfd2",
        "collapsed": true
      },
      "outputs": [
        {
          "output_type": "stream",
          "name": "stdout",
          "text": [
            "Hola Mundo\n",
            "Hola  Yuvi , inicial:  Y i\n"
          ]
        }
      ],
      "source": [
        "print(\"Hola Mundo\")\n",
        "nombre = \"Yuvi\"\n",
        "\n",
        "print(\"Hola \", nombre, \", inicial: \", nombre[0], nombre[3])"
      ]
    },
    {
      "cell_type": "markdown",
      "source": [
        "EJERCICIO, crear un programa en python que sume dos numeros"
      ],
      "metadata": {
        "id": "Xi8eKLrJ9oYW"
      }
    },
    {
      "cell_type": "code",
      "source": [
        "num1 = 5\n",
        "num2 = 9.5\n",
        "resp = num1 + num2\n",
        "print(\"La suma es: \", resp)"
      ],
      "metadata": {
        "colab": {
          "base_uri": "https://localhost:8080/"
        },
        "collapsed": true,
        "id": "DOmuP7T49Zk5",
        "outputId": "3e47de0a-db3e-4b94-e6e5-2e53c48d005b"
      },
      "execution_count": null,
      "outputs": [
        {
          "output_type": "stream",
          "name": "stdout",
          "text": [
            "La suma es:  14.5\n"
          ]
        }
      ]
    },
    {
      "cell_type": "markdown",
      "source": [
        "EJERCICIO, crear un programa en python que sume dos numeros introducidos por el usuario"
      ],
      "metadata": {
        "id": "Ag6QjRej_Zmd"
      }
    },
    {
      "cell_type": "code",
      "source": [
        "print(\"Num 1\")\n",
        "num1 = float(input())\n",
        "\n",
        "print(\"Num 2\")\n",
        "num2 = float(input())\n",
        "\n",
        "resp = num1 + num2\n",
        "print(\"La suma es: \", resp)"
      ],
      "metadata": {
        "colab": {
          "base_uri": "https://localhost:8080/"
        },
        "collapsed": true,
        "id": "KmlwdxEw_2t7",
        "outputId": "b3738152-12ee-46d3-a9d0-3d5deb0af7c9"
      },
      "execution_count": null,
      "outputs": [
        {
          "output_type": "stream",
          "name": "stdout",
          "text": [
            "Num 1\n",
            "1\n",
            "Num 2\n",
            "1\n",
            "La suma es:  2.0\n"
          ]
        }
      ]
    },
    {
      "cell_type": "code",
      "source": [
        "#Tipos de datos\n",
        "num1 = 5\n",
        "num2 = 5.9\n",
        "nombre = \"Yuvi\"\n",
        "print(nombre[0:2], nombre[:2], nombre[-1], nombre[3:len(nombre)])\n",
        "\n",
        "estado = True\n",
        "print(estado)\n",
        "\n",
        "print(type(nombre), type(num1), type(num2), type(estado))"
      ],
      "metadata": {
        "colab": {
          "base_uri": "https://localhost:8080/"
        },
        "id": "Gec4MtCbCMCL",
        "outputId": "44d2277b-a5ae-4c00-e78f-16f3d8ba95e5",
        "collapsed": true
      },
      "execution_count": null,
      "outputs": [
        {
          "output_type": "stream",
          "name": "stdout",
          "text": [
            "Yu Yu i i\n",
            "True\n",
            "<class 'str'> <class 'int'> <class 'float'> <class 'bool'>\n"
          ]
        }
      ]
    },
    {
      "cell_type": "markdown",
      "source": [
        "EJERCICIO, cree un programa en python que lea un numero y determine si es par o impar."
      ],
      "metadata": {
        "id": "sqh_CpR5EnWc"
      }
    },
    {
      "cell_type": "code",
      "source": [
        "num = int(input(\"Ingrese un numero:\"))\n",
        "if num % 2 == 0:\n",
        "  print(\"El numero es par\", num)\n",
        "else:\n",
        "  print(\"El numero es impar\")"
      ],
      "metadata": {
        "colab": {
          "base_uri": "https://localhost:8080/"
        },
        "id": "LHUtUfJFExoe",
        "outputId": "188981f8-bfe7-4e47-cab9-71ec344b0465",
        "collapsed": true
      },
      "execution_count": null,
      "outputs": [
        {
          "output_type": "stream",
          "name": "stdout",
          "text": [
            "Ingrese un numero:7\n",
            "El numero es impar\n"
          ]
        }
      ]
    },
    {
      "cell_type": "markdown",
      "source": [
        "EJERCICIO: Uso de las funciones de usuario, con la suma dedos numeros."
      ],
      "metadata": {
        "id": "egR39FrFa_Wk"
      }
    },
    {
      "cell_type": "code",
      "source": [
        "def suma(num1, num2):\n",
        "  return num1 + num2"
      ],
      "metadata": {
        "id": "_IBZQKx3bO75"
      },
      "execution_count": null,
      "outputs": []
    },
    {
      "cell_type": "code",
      "source": [
        "num1 = float(input(\"Num 1: \"))\n",
        "num2 = float(input(\"Num 2: \"))\n",
        "\n",
        "resp = suma(num1, num2)\n",
        "print(\"La suma es: \", resp)"
      ],
      "metadata": {
        "id": "IO2COBGFbbpU",
        "colab": {
          "base_uri": "https://localhost:8080/"
        },
        "outputId": "29121fae-9cde-49b6-c7ab-1f661a93cf76",
        "collapsed": true
      },
      "execution_count": null,
      "outputs": [
        {
          "output_type": "stream",
          "name": "stdout",
          "text": [
            "Num 1: 5\n",
            "Num 2: 3.14\n",
            "La suma es:  8.14\n"
          ]
        }
      ]
    },
    {
      "cell_type": "markdown",
      "source": [
        "EJERCICIO: Convertir grados celsius a farenheit, usando funciones de usuario."
      ],
      "metadata": {
        "id": "2GPym0QTcSUu"
      }
    },
    {
      "cell_type": "code",
      "source": [
        "def convertir_cf(c):\n",
        "  return c*1.8 + 32"
      ],
      "metadata": {
        "id": "sZQiRnajhCt7"
      },
      "execution_count": null,
      "outputs": []
    },
    {
      "cell_type": "code",
      "source": [
        "c = float(input(\"Celsius: \"))\n",
        "print(\"F: \", convertir_cf(c))"
      ],
      "metadata": {
        "colab": {
          "base_uri": "https://localhost:8080/"
        },
        "id": "lrW179KYhE8O",
        "outputId": "729da5f0-7e0a-4794-c526-d86e90017e24",
        "collapsed": true
      },
      "execution_count": null,
      "outputs": [
        {
          "output_type": "stream",
          "name": "stdout",
          "text": [
            "Celsius: 33\n",
            "F:  91.4\n"
          ]
        }
      ]
    },
    {
      "cell_type": "markdown",
      "source": [
        "EJERCICIO: Determina si un numero es par o impar."
      ],
      "metadata": {
        "id": "KVRXDKjVhTek"
      }
    },
    {
      "cell_type": "code",
      "source": [
        "def parImpar(num):\n",
        "  if(num%2==0):\n",
        "    return \"par\"\n",
        "  return \"impar\""
      ],
      "metadata": {
        "id": "q59xwiRxhXoq"
      },
      "execution_count": null,
      "outputs": []
    },
    {
      "cell_type": "code",
      "source": [
        "num = int(input(\"Num: \"))\n",
        "print(\"EL numero \", num, \" es: \", parImpar(num))"
      ],
      "metadata": {
        "colab": {
          "base_uri": "https://localhost:8080/"
        },
        "id": "BzzpGx7Iha5K",
        "outputId": "dc2d0863-f1ab-4b1d-8361-5179f77cae08",
        "collapsed": true
      },
      "execution_count": null,
      "outputs": [
        {
          "output_type": "stream",
          "name": "stdout",
          "text": [
            "Num: 4\n",
            "EL numero  4  es:  par\n"
          ]
        }
      ]
    },
    {
      "cell_type": "markdown",
      "source": [
        "EJERCICIO: Calcular el sueldo de un trabajador."
      ],
      "metadata": {
        "id": "ALefIjQhhpT4"
      }
    },
    {
      "cell_type": "code",
      "source": [
        "def sueldo(numHrs, valorXHrs):\n",
        "  sueldo = numHrs * valorXHrs * 30 # 10*1.5*30 = 450\n",
        "  if(numHrs>8):\n",
        "    sueldo = sueldo + (numHrs-8) * valorXHrs * 30 # 2*1.5*30 = 90\n",
        "  return sueldo"
      ],
      "metadata": {
        "id": "GlUMe4t_hqz5"
      },
      "execution_count": null,
      "outputs": []
    },
    {
      "cell_type": "code",
      "source": [
        "numHrs = int(input(\"Horas: \"))\n",
        "valorXHrs = float(input(\"Valor: \"))\n",
        "\n",
        "print(\"Sueldo: \", sueldo(numHrs, valorXHrs))"
      ],
      "metadata": {
        "colab": {
          "base_uri": "https://localhost:8080/"
        },
        "id": "Ea9ShWlghuWe",
        "outputId": "24f6b763-97ea-4bc3-90cc-77533b60c599",
        "collapsed": true
      },
      "execution_count": null,
      "outputs": [
        {
          "output_type": "stream",
          "name": "stdout",
          "text": [
            "Horas: 10\n",
            "Valor: 1.5\n",
            "Sueldo:  540.0\n"
          ]
        }
      ]
    },
    {
      "cell_type": "markdown",
      "source": [
        "# **TAREA (MIERCOLES)**\n",
        "\n",
        "1. Convertir grados Fahrenheit a Celsius."
      ],
      "metadata": {
        "id": "rg2ZCSSut3C9"
      }
    },
    {
      "cell_type": "code",
      "source": [
        "def fahrenheit_a_celsius(fahrenheit):\n",
        "    celsius = (fahrenheit - 32) * 5.0 / 9.0\n",
        "    return celsius\n",
        "\n",
        "def obtener_fahrenheit():\n",
        "    while True:\n",
        "        try:\n",
        "            f = float(input(\"Ingresa los grados Fahrenheit: \").strip())\n",
        "            return f\n",
        "        except ValueError:\n",
        "            print(\"Entrada no válida. Por favor, ingresa un número.\")\n",
        "\n",
        "f = obtener_fahrenheit()\n",
        "print(f\"{f} grados Fahrenheit son {fahrenheit_a_celsius(f):.2f} grados Celsius.\")"
      ],
      "metadata": {
        "colab": {
          "base_uri": "https://localhost:8080/"
        },
        "id": "ygTscBsRuoc0",
        "outputId": "4b1325ff-9216-44d1-869b-2ed39a57439e",
        "collapsed": true
      },
      "execution_count": 30,
      "outputs": [
        {
          "output_type": "stream",
          "name": "stdout",
          "text": [
            "Ingresa los grados Fahrenheit: yy\n",
            "Entrada no válida. Por favor, ingresa un número.\n",
            "Ingresa los grados Fahrenheit: 21\n",
            "21.0 grados Fahrenheit son -6.11 grados Celsius.\n"
          ]
        }
      ]
    },
    {
      "cell_type": "markdown",
      "source": [
        "2. Convertir grados [Celsius y Fahrenheit] a Kelvin."
      ],
      "metadata": {
        "id": "nFTzeuhzz7bT"
      }
    },
    {
      "cell_type": "code",
      "source": [
        "def celsius_a_kelvin(celsius):\n",
        "    return celsius + 273.15\n",
        "\n",
        "def fahrenheit_a_kelvin(fahrenheit):\n",
        "    celsius = (fahrenheit - 32) * 5.0 / 9.0\n",
        "    return celsius + 273.15\n",
        "\n",
        "def obtener_opcion():\n",
        "    opciones = {\n",
        "        'C': 'Celsius a Kelvin',\n",
        "        'F': 'Fahrenheit a Kelvin'\n",
        "    }\n",
        "\n",
        "    print(\"Elige una opción:\")\n",
        "    print(\"C. Convertir Celsius a Kelvin\")\n",
        "    print(\"F. Convertir Fahrenheit a Kelvin\")\n",
        "\n",
        "    while True:\n",
        "        opcion = input(\"Ingresa C o F: \").upper().strip()\n",
        "\n",
        "        if opcion in opciones:\n",
        "            return opcion\n",
        "        else:\n",
        "            print(\"Opción no válida. Inténtalo de nuevo.\")\n",
        "\n",
        "def obtener_grados(opcion):\n",
        "    while True:\n",
        "        try:\n",
        "            valor = float(input(f\"Ingresa los grados ({'Celsius' if opcion == 'C' else 'Fahrenheit'}): \"))\n",
        "            return valor\n",
        "        except ValueError:\n",
        "            print(\"Entrada no válida. Por favor, ingresa un número.\")\n",
        "\n",
        "def convertir_a_kelvin():\n",
        "    opciones = {\n",
        "        'C': celsius_a_kelvin,\n",
        "        'F': fahrenheit_a_kelvin\n",
        "    }\n",
        "\n",
        "    opcion = obtener_opcion()\n",
        "    valor = obtener_grados(opcion)\n",
        "    kelvin = opciones[opcion](valor)\n",
        "\n",
        "    print(f\"{valor} grados {'Celsius' if opcion == 'C' else 'Fahrenheit'} son {kelvin:.2f} grados Kelvin.\")\n",
        "\n",
        "convertir_a_kelvin()"
      ],
      "metadata": {
        "colab": {
          "base_uri": "https://localhost:8080/"
        },
        "id": "ECeRoPH00XlJ",
        "outputId": "4fab98fd-cc46-465e-9386-bebb5b039c2e",
        "collapsed": true
      },
      "execution_count": 31,
      "outputs": [
        {
          "output_type": "stream",
          "name": "stdout",
          "text": [
            "Elige una opción:\n",
            "C. Convertir Celsius a Kelvin\n",
            "F. Convertir Fahrenheit a Kelvin\n",
            "Ingresa C o F: a\n",
            "Opción no válida. Inténtalo de nuevo.\n",
            "Ingresa C o F: c\n",
            "Ingresa los grados (Celsius): y\n",
            "Entrada no válida. Por favor, ingresa un número.\n",
            "Ingresa los grados (Celsius): 2\n",
            "2.0 grados Celsius son 275.15 grados Kelvin.\n"
          ]
        }
      ]
    }
  ]
}