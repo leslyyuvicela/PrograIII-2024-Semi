{
  "nbformat": 4,
  "nbformat_minor": 0,
  "metadata": {
    "colab": {
      "provenance": [],
      "authorship_tag": "ABX9TyMBg1oAWJ+d4X+64NENWRye",
      "include_colab_link": true
    },
    "kernelspec": {
      "name": "python3",
      "display_name": "Python 3"
    },
    "language_info": {
      "name": "python"
    }
  },
  "cells": [
    {
      "cell_type": "markdown",
      "metadata": {
        "id": "view-in-github",
        "colab_type": "text"
      },
      "source": [
        "<a href=\"https://colab.research.google.com/github/leslyyuvicela/PrograIII-2024-Semi/blob/main/fundamentos_de_python.ipynb\" target=\"_parent\"><img src=\"https://colab.research.google.com/assets/colab-badge.svg\" alt=\"Open In Colab\"/></a>"
      ]
    },
    {
      "cell_type": "code",
      "execution_count": null,
      "metadata": {
        "colab": {
          "base_uri": "https://localhost:8080/"
        },
        "id": "fwJl7wKY4fvU",
        "outputId": "7e29209d-6449-45ad-9c14-5b5efad8dfd2",
        "collapsed": true
      },
      "outputs": [
        {
          "output_type": "stream",
          "name": "stdout",
          "text": [
            "Hola Mundo\n",
            "Hola  Yuvi , inicial:  Y i\n"
          ]
        }
      ],
      "source": [
        "print(\"Hola Mundo\")\n",
        "nombre = \"Yuvi\"\n",
        "\n",
        "print(\"Hola \", nombre, \", inicial: \", nombre[0], nombre[3])"
      ]
    },
    {
      "cell_type": "markdown",
      "source": [
        "EJERCICIO, crear un programa en python que sume dos numeros"
      ],
      "metadata": {
        "id": "Xi8eKLrJ9oYW"
      }
    },
    {
      "cell_type": "code",
      "source": [
        "num1 = 5\n",
        "num2 = 9.5\n",
        "resp = num1 + num2\n",
        "print(\"La suma es: \", resp)"
      ],
      "metadata": {
        "colab": {
          "base_uri": "https://localhost:8080/"
        },
        "collapsed": true,
        "id": "DOmuP7T49Zk5",
        "outputId": "3e47de0a-db3e-4b94-e6e5-2e53c48d005b"
      },
      "execution_count": null,
      "outputs": [
        {
          "output_type": "stream",
          "name": "stdout",
          "text": [
            "La suma es:  14.5\n"
          ]
        }
      ]
    },
    {
      "cell_type": "markdown",
      "source": [
        "EJERCICIO, crear un programa en python que sume dos numeros introducidos por el usuario"
      ],
      "metadata": {
        "id": "Ag6QjRej_Zmd"
      }
    },
    {
      "cell_type": "code",
      "source": [
        "print(\"Num 1\")\n",
        "num1 = float(input())\n",
        "\n",
        "print(\"Num 2\")\n",
        "num2 = float(input())\n",
        "\n",
        "resp = num1 + num2\n",
        "print(\"La suma es: \", resp)"
      ],
      "metadata": {
        "colab": {
          "base_uri": "https://localhost:8080/"
        },
        "collapsed": true,
        "id": "KmlwdxEw_2t7",
        "outputId": "b3738152-12ee-46d3-a9d0-3d5deb0af7c9"
      },
      "execution_count": null,
      "outputs": [
        {
          "output_type": "stream",
          "name": "stdout",
          "text": [
            "Num 1\n",
            "1\n",
            "Num 2\n",
            "1\n",
            "La suma es:  2.0\n"
          ]
        }
      ]
    },
    {
      "cell_type": "code",
      "source": [
        "#Tipos de datos\n",
        "num1 = 5\n",
        "num2 = 5.9\n",
        "nombre = \"Yuvi\"\n",
        "print(nombre[0:2], nombre[:2], nombre[-1], nombre[3:len(nombre)])\n",
        "\n",
        "estado = True\n",
        "print(estado)\n",
        "\n",
        "print(type(nombre), type(num1), type(num2), type(estado))"
      ],
      "metadata": {
        "colab": {
          "base_uri": "https://localhost:8080/"
        },
        "id": "Gec4MtCbCMCL",
        "outputId": "44d2277b-a5ae-4c00-e78f-16f3d8ba95e5",
        "collapsed": true
      },
      "execution_count": null,
      "outputs": [
        {
          "output_type": "stream",
          "name": "stdout",
          "text": [
            "Yu Yu i i\n",
            "True\n",
            "<class 'str'> <class 'int'> <class 'float'> <class 'bool'>\n"
          ]
        }
      ]
    },
    {
      "cell_type": "markdown",
      "source": [
        "EJERCICIO, cree un programa en python que lea un numero y determine si es par o impar."
      ],
      "metadata": {
        "id": "sqh_CpR5EnWc"
      }
    },
    {
      "cell_type": "code",
      "source": [
        "num = int(input(\"Ingrese un numero:\"))\n",
        "if num % 2 == 0:\n",
        "  print(\"El numero es par\", num)\n",
        "else:\n",
        "  print(\"El numero es impar\")"
      ],
      "metadata": {
        "colab": {
          "base_uri": "https://localhost:8080/"
        },
        "id": "LHUtUfJFExoe",
        "outputId": "188981f8-bfe7-4e47-cab9-71ec344b0465",
        "collapsed": true
      },
      "execution_count": null,
      "outputs": [
        {
          "output_type": "stream",
          "name": "stdout",
          "text": [
            "Ingrese un numero:7\n",
            "El numero es impar\n"
          ]
        }
      ]
    },
    {
      "cell_type": "markdown",
      "source": [
        "EJERCICIO: Uso de las funciones de usuario, con la suma dedos numeros."
      ],
      "metadata": {
        "id": "egR39FrFa_Wk"
      }
    },
    {
      "cell_type": "code",
      "source": [
        "def suma(num1, num2):\n",
        "  return num1 + num2"
      ],
      "metadata": {
        "id": "_IBZQKx3bO75"
      },
      "execution_count": null,
      "outputs": []
    },
    {
      "cell_type": "code",
      "source": [
        "num1 = float(input(\"Num 1: \"))\n",
        "num2 = float(input(\"Num 2: \"))\n",
        "\n",
        "resp = suma(num1, num2)\n",
        "print(\"La suma es: \", resp)"
      ],
      "metadata": {
        "id": "IO2COBGFbbpU",
        "colab": {
          "base_uri": "https://localhost:8080/"
        },
        "outputId": "29121fae-9cde-49b6-c7ab-1f661a93cf76",
        "collapsed": true
      },
      "execution_count": null,
      "outputs": [
        {
          "output_type": "stream",
          "name": "stdout",
          "text": [
            "Num 1: 5\n",
            "Num 2: 3.14\n",
            "La suma es:  8.14\n"
          ]
        }
      ]
    },
    {
      "cell_type": "markdown",
      "source": [
        "EJERCICIO: Convertir grados celsius a farenheit, usando funciones de usuario."
      ],
      "metadata": {
        "id": "2GPym0QTcSUu"
      }
    },
    {
      "cell_type": "code",
      "source": [
        "def convertir_cf(c):\n",
        "  return c*1.8 + 32"
      ],
      "metadata": {
        "id": "sZQiRnajhCt7"
      },
      "execution_count": null,
      "outputs": []
    },
    {
      "cell_type": "code",
      "source": [
        "c = float(input(\"Celsius: \"))\n",
        "print(\"F: \", convertir_cf(c))"
      ],
      "metadata": {
        "colab": {
          "base_uri": "https://localhost:8080/"
        },
        "id": "lrW179KYhE8O",
        "outputId": "729da5f0-7e0a-4794-c526-d86e90017e24",
        "collapsed": true
      },
      "execution_count": null,
      "outputs": [
        {
          "output_type": "stream",
          "name": "stdout",
          "text": [
            "Celsius: 33\n",
            "F:  91.4\n"
          ]
        }
      ]
    },
    {
      "cell_type": "markdown",
      "source": [
        "EJERCICIO: Determina si un numero es par o impar."
      ],
      "metadata": {
        "id": "KVRXDKjVhTek"
      }
    },
    {
      "cell_type": "code",
      "source": [
        "def parImpar(num):\n",
        "  if(num%2==0):\n",
        "    return \"par\"\n",
        "  return \"impar\""
      ],
      "metadata": {
        "id": "q59xwiRxhXoq"
      },
      "execution_count": null,
      "outputs": []
    },
    {
      "cell_type": "code",
      "source": [
        "num = int(input(\"Num: \"))\n",
        "print(\"EL numero \", num, \" es: \", parImpar(num))"
      ],
      "metadata": {
        "colab": {
          "base_uri": "https://localhost:8080/"
        },
        "id": "BzzpGx7Iha5K",
        "outputId": "dc2d0863-f1ab-4b1d-8361-5179f77cae08",
        "collapsed": true
      },
      "execution_count": null,
      "outputs": [
        {
          "output_type": "stream",
          "name": "stdout",
          "text": [
            "Num: 4\n",
            "EL numero  4  es:  par\n"
          ]
        }
      ]
    },
    {
      "cell_type": "markdown",
      "source": [
        "EJERCICIO: Calcular el sueldo de un trabajador."
      ],
      "metadata": {
        "id": "ALefIjQhhpT4"
      }
    },
    {
      "cell_type": "code",
      "source": [
        "def sueldo(numHrs, valorXHrs):\n",
        "  sueldo = numHrs * valorXHrs * 30 # 10*1.5*30 = 450\n",
        "  if(numHrs>8):\n",
        "    sueldo = sueldo + (numHrs-8) * valorXHrs * 30 # 2*1.5*30 = 90\n",
        "  return sueldo"
      ],
      "metadata": {
        "id": "GlUMe4t_hqz5"
      },
      "execution_count": null,
      "outputs": []
    },
    {
      "cell_type": "code",
      "source": [
        "numHrs = int(input(\"Horas: \"))\n",
        "valorXHrs = float(input(\"Valor: \"))\n",
        "\n",
        "print(\"Sueldo: \", sueldo(numHrs, valorXHrs))"
      ],
      "metadata": {
        "colab": {
          "base_uri": "https://localhost:8080/"
        },
        "id": "Ea9ShWlghuWe",
        "outputId": "24f6b763-97ea-4bc3-90cc-77533b60c599",
        "collapsed": true
      },
      "execution_count": null,
      "outputs": [
        {
          "output_type": "stream",
          "name": "stdout",
          "text": [
            "Horas: 10\n",
            "Valor: 1.5\n",
            "Sueldo:  540.0\n"
          ]
        }
      ]
    },
    {
      "cell_type": "markdown",
      "source": [
        "# **TAREA (MIERCOLES)**\n",
        "\n",
        "**1. Convertir grados Fahrenheit a Celsius.**"
      ],
      "metadata": {
        "id": "rg2ZCSSut3C9"
      }
    },
    {
      "cell_type": "code",
      "source": [
        "def fahrenheit_a_celsius(fahrenheit):\n",
        "    celsius = (fahrenheit - 32) * 5.0 / 9.0\n",
        "    return celsius\n",
        "\n",
        "def obtener_fahrenheit():\n",
        "    while True:\n",
        "        try:\n",
        "            f = float(input(\"Ingresa los grados Fahrenheit: \").strip())\n",
        "            return f\n",
        "        except ValueError:\n",
        "            print(\"Entrada no válida. Por favor, ingresa un número.\")\n",
        "\n",
        "f = obtener_fahrenheit()\n",
        "print(f\"{f} grados Fahrenheit son {fahrenheit_a_celsius(f):.2f} grados Celsius.\")"
      ],
      "metadata": {
        "colab": {
          "base_uri": "https://localhost:8080/"
        },
        "id": "ygTscBsRuoc0",
        "outputId": "3eb852bb-695d-4db4-d24b-d0504fdd5586"
      },
      "execution_count": null,
      "outputs": [
        {
          "output_type": "stream",
          "name": "stdout",
          "text": [
            "Ingresa los grados Fahrenheit: 1\n",
            "1.0 grados Fahrenheit son -17.22 grados Celsius.\n"
          ]
        }
      ]
    },
    {
      "cell_type": "markdown",
      "source": [
        "**2. Convertir grados [Celsius y Fahrenheit] a Kelvin.**"
      ],
      "metadata": {
        "id": "nFTzeuhzz7bT"
      }
    },
    {
      "cell_type": "code",
      "source": [
        "def celsius_a_kelvin(celsius):\n",
        "    return celsius + 273.15\n",
        "\n",
        "def fahrenheit_a_kelvin(fahrenheit):\n",
        "    celsius = (fahrenheit - 32) * 5.0 / 9.0\n",
        "    return celsius + 273.15\n",
        "\n",
        "def obtener_opcion():\n",
        "    opciones = {\n",
        "        'C': 'Celsius a Kelvin',\n",
        "        'F': 'Fahrenheit a Kelvin'\n",
        "    }\n",
        "\n",
        "    print(\"Elige una opción:\")\n",
        "    print(\"C. Convertir Celsius a Kelvin\")\n",
        "    print(\"F. Convertir Fahrenheit a Kelvin\")\n",
        "\n",
        "    while True:\n",
        "        opcion = input(\"Ingresa C o F: \").upper().strip()\n",
        "\n",
        "        if opcion in opciones:\n",
        "            return opcion\n",
        "        else:\n",
        "            print(\"Opción no válida. Inténtalo de nuevo.\")\n",
        "\n",
        "def obtener_grados(opcion):\n",
        "    while True:\n",
        "        try:\n",
        "            valor = float(input(f\"Ingresa los grados ({'Celsius' if opcion == 'C' else 'Fahrenheit'}): \"))\n",
        "            return valor\n",
        "        except ValueError:\n",
        "            print(\"Entrada no válida. Por favor, ingresa un número.\")\n",
        "\n",
        "def convertir_a_kelvin():\n",
        "    opciones = {\n",
        "        'C': celsius_a_kelvin,\n",
        "        'F': fahrenheit_a_kelvin\n",
        "    }\n",
        "\n",
        "    opcion = obtener_opcion()\n",
        "    valor = obtener_grados(opcion)\n",
        "    kelvin = opciones[opcion](valor)\n",
        "\n",
        "    print(f\"{valor} grados {'Celsius' if opcion == 'C' else 'Fahrenheit'} son {kelvin:.2f} grados Kelvin.\")\n",
        "\n",
        "convertir_a_kelvin()"
      ],
      "metadata": {
        "colab": {
          "base_uri": "https://localhost:8080/"
        },
        "id": "ECeRoPH00XlJ",
        "outputId": "47b562aa-fbee-42c5-a179-6ad7306c6da1"
      },
      "execution_count": null,
      "outputs": [
        {
          "output_type": "stream",
          "name": "stdout",
          "text": [
            "Elige una opción:\n",
            "C. Convertir Celsius a Kelvin\n",
            "F. Convertir Fahrenheit a Kelvin\n",
            "Ingresa C o F: ñ\n",
            "Opción no válida. Inténtalo de nuevo.\n",
            "Ingresa C o F: 9.9.9\n",
            "Opción no válida. Inténtalo de nuevo.\n",
            "Ingresa C o F: 1000000000000000000000000000000\n",
            "Opción no válida. Inténtalo de nuevo.\n",
            "Ingresa C o F: 100\n",
            "Opción no válida. Inténtalo de nuevo.\n",
            "Ingresa C o F: C\n",
            "Ingresa los grados (Celsius): ñ\n",
            "Entrada no válida. Por favor, ingresa un número.\n",
            "Ingresa los grados (Celsius): 6\n",
            "6.0 grados Celsius son 279.15 grados Kelvin.\n"
          ]
        }
      ]
    },
    {
      "cell_type": "markdown",
      "source": [
        "EJERCICIO: Elevar un numero al cuadrado."
      ],
      "metadata": {
        "id": "QygU1XT86Bsb"
      }
    },
    {
      "cell_type": "code",
      "source": [
        "def elevarCuadrado(base=0, exponente=2):\n",
        "  return base**exponente"
      ],
      "metadata": {
        "id": "ulczsO4l6QLy"
      },
      "execution_count": null,
      "outputs": []
    },
    {
      "cell_type": "code",
      "source": [
        "num = int(input(\"Num: \"))\n",
        "print(\"Cuadrado: \", (elevarCuadrado(num, 3)))"
      ],
      "metadata": {
        "colab": {
          "base_uri": "https://localhost:8080/"
        },
        "id": "Ts9f7MC96bnE",
        "outputId": "2ccc8aa0-e406-4352-b1ec-69d387ace3e4"
      },
      "execution_count": null,
      "outputs": [
        {
          "output_type": "stream",
          "name": "stdout",
          "text": [
            "Num: 3\n",
            "Cuadrado:  27\n"
          ]
        }
      ]
    },
    {
      "cell_type": "markdown",
      "source": [
        "USANDO FUNCIONES LAMBDA."
      ],
      "metadata": {
        "id": "BBLtf9At8Lcc"
      }
    },
    {
      "cell_type": "code",
      "source": [
        "elevarCuadradoLambda = lambda base, exponente: base**exponente"
      ],
      "metadata": {
        "id": "sbmuB2uX8RNQ"
      },
      "execution_count": null,
      "outputs": []
    },
    {
      "cell_type": "code",
      "source": [
        "valor = int(input(\"Num: \"))\n",
        "print(\"Cuadrado: \", elevarCuadradoLambda(valor, 2))"
      ],
      "metadata": {
        "colab": {
          "base_uri": "https://localhost:8080/"
        },
        "id": "g02ufgrA9CSh",
        "outputId": "cd79413a-d9c5-44df-cf53-24d55e413655"
      },
      "execution_count": null,
      "outputs": [
        {
          "output_type": "stream",
          "name": "stdout",
          "text": [
            "Num: 3\n",
            "Cuadrado:  9\n"
          ]
        }
      ]
    },
    {
      "cell_type": "code",
      "source": [
        "serie = [5,4,3,2,6,7]\n",
        "resp = map(lambda x: x**2, serie)\n",
        "print(list(resp))\n",
        "\n",
        "resp2 = map(elevarCuadrado, serie)\n",
        "print(list(resp2))"
      ],
      "metadata": {
        "colab": {
          "base_uri": "https://localhost:8080/"
        },
        "id": "C9tsNShD_oxh",
        "outputId": "cfad613b-fdac-4acc-8807-f05faf2642f5"
      },
      "execution_count": null,
      "outputs": [
        {
          "output_type": "stream",
          "name": "stdout",
          "text": [
            "[25, 16, 9, 4, 36, 49]\n",
            "[25, 16, 9, 4, 36, 49]\n"
          ]
        }
      ]
    },
    {
      "cell_type": "markdown",
      "source": [
        "EJERCICIO: Obtener la raiz cuadrada de una serie de numeros fijos."
      ],
      "metadata": {
        "id": "KkNNKnsxC14r"
      }
    },
    {
      "cell_type": "code",
      "source": [
        "serie = [2,4,9,10,36,49]\n",
        "resp = map(lambda x: x**0.5, serie)\n",
        "print(list(resp))"
      ],
      "metadata": {
        "colab": {
          "base_uri": "https://localhost:8080/"
        },
        "id": "RGYWBnpNDSE9",
        "outputId": "4b64f1fa-dfc7-40f6-c3dc-306186a0ce4c"
      },
      "execution_count": null,
      "outputs": [
        {
          "output_type": "stream",
          "name": "stdout",
          "text": [
            "[1.4142135623730951, 2.0, 3.0, 3.1622776601683795, 6.0, 7.0]\n"
          ]
        }
      ]
    },
    {
      "cell_type": "markdown",
      "source": [
        "Ejercicios con funciones preconstruidas en python."
      ],
      "metadata": {
        "id": "wBCCSAMA_oZp"
      }
    },
    {
      "cell_type": "markdown",
      "source": [
        "\n",
        "\n",
        "*   MAP\n",
        "\n"
      ],
      "metadata": {
        "id": "c90Cf0_l_xi6"
      }
    },
    {
      "cell_type": "code",
      "source": [
        "numeros = [1,2,3,4,5,6,7,8,9]\n",
        "print(list(map(lambda n: n*2, numeros)))"
      ],
      "metadata": {
        "colab": {
          "base_uri": "https://localhost:8080/"
        },
        "id": "2lDjvCcM_uGe",
        "outputId": "93e6378e-5543-4c5a-f1c2-7a92d545184d"
      },
      "execution_count": 1,
      "outputs": [
        {
          "output_type": "stream",
          "name": "stdout",
          "text": [
            "[2, 4, 6, 8, 10, 12, 14, 16, 18]\n"
          ]
        }
      ]
    },
    {
      "cell_type": "code",
      "source": [
        "numeros = [1,2,3,4,5,6,7,8,9, 10]\n",
        "ntabla = int(input(\"Tabla: \"))\n",
        "print(list(map(lambda n: n*ntabla, numeros))) #Tabla de multiplicar"
      ],
      "metadata": {
        "colab": {
          "base_uri": "https://localhost:8080/"
        },
        "id": "OnSvKl6vAmnh",
        "outputId": "e203b7ab-d714-4ee9-a619-6681d2a65959"
      },
      "execution_count": 3,
      "outputs": [
        {
          "output_type": "stream",
          "name": "stdout",
          "text": [
            "Tabla: 9\n",
            "[9, 18, 27, 36, 45, 54, 63, 72, 81, 90]\n"
          ]
        }
      ]
    },
    {
      "cell_type": "markdown",
      "source": [
        "\n",
        "\n",
        "*   FILTER\n"
      ],
      "metadata": {
        "id": "4m5vSoJgA3rU"
      }
    },
    {
      "cell_type": "code",
      "source": [
        "numeros = [1,2,3,4,5,6,7,8,9,10]\n",
        "print(\"Pares: \", list(filter(lambda n: n%2==0, numeros))) #Obtener solo los numeros pares.\n",
        "print(\"Impares: \", list(filter(lambda n: n%2!=0, numeros))) #Obtener solo los numeros impares."
      ],
      "metadata": {
        "colab": {
          "base_uri": "https://localhost:8080/"
        },
        "id": "Jv5m9C1IA7iH",
        "outputId": "1a071d27-a0dc-451f-de89-8b9653f8aff1"
      },
      "execution_count": 4,
      "outputs": [
        {
          "output_type": "stream",
          "name": "stdout",
          "text": [
            "Pares:  [2, 4, 6, 8, 10]\n",
            "Impares:  [1, 3, 5, 7, 9]\n"
          ]
        }
      ]
    },
    {
      "cell_type": "code",
      "source": [
        "notas = [5,8,9,10,7,6,9,10,2,3,1,4,2,9]\n",
        "print(\"Aprobados: \", list(filter(lambda n: n>=6, notas)))\n",
        "print(\"Reprobados: \", list(filter(lambda n: n<6, notas)))"
      ],
      "metadata": {
        "colab": {
          "base_uri": "https://localhost:8080/"
        },
        "id": "K_7k9YGLBTuq",
        "outputId": "a0910988-ae9f-4d59-dff1-2f20b8ba81db"
      },
      "execution_count": 5,
      "outputs": [
        {
          "output_type": "stream",
          "name": "stdout",
          "text": [
            "Aprobados:  [8, 9, 10, 7, 6, 9, 10, 9]\n",
            "Reprobados:  [5, 2, 3, 1, 4, 2]\n"
          ]
        }
      ]
    },
    {
      "cell_type": "markdown",
      "source": [
        "\n",
        "\n",
        "*   REDUCE\n",
        "\n"
      ],
      "metadata": {
        "id": "HbkE8FlBBmae"
      }
    },
    {
      "cell_type": "code",
      "source": [
        "from functools import reduce\n",
        "numeros = [7,8,9,10]\n",
        "print(\"Suma: \", reduce(lambda n, acum: n+acum, numeros))"
      ],
      "metadata": {
        "colab": {
          "base_uri": "https://localhost:8080/"
        },
        "id": "-pQMNVI6Bpsd",
        "outputId": "84130179-7c2c-4966-8b9b-95c26c4c8ac2"
      },
      "execution_count": 7,
      "outputs": [
        {
          "output_type": "stream",
          "name": "stdout",
          "text": [
            "Suma:  34\n"
          ]
        }
      ]
    },
    {
      "cell_type": "code",
      "source": [
        "numeros = [7,8,9,10,1,5]\n",
        "print(\"Num Mayor: \", reduce(lambda n, mayor: n if n>mayor else mayor, numeros))\n",
        "print(\"Num Menor: \", reduce(lambda n, menor: n if n<menor else menor, numeros))"
      ],
      "metadata": {
        "colab": {
          "base_uri": "https://localhost:8080/"
        },
        "id": "P-j9C7EKFqZl",
        "outputId": "9021a8c5-471b-444f-8252-0e3941873dcd"
      },
      "execution_count": 8,
      "outputs": [
        {
          "output_type": "stream",
          "name": "stdout",
          "text": [
            "Num Mayor:  10\n",
            "Num Menor:  1\n"
          ]
        }
      ]
    },
    {
      "cell_type": "markdown",
      "source": [
        "**TUPLAS**"
      ],
      "metadata": {
        "id": "i0Dk2rkHGM_c"
      }
    },
    {
      "cell_type": "code",
      "source": [
        "numeros = (5,8,7,9,5,4,7)\n",
        "print(\"Tupla: \", numeros, \"Primer: \", numeros[0], \"Ultimo: \", numeros[-1], \"Rango: 2-6 \", numeros[2:6])\n",
        "print(numeros.count(5))"
      ],
      "metadata": {
        "colab": {
          "base_uri": "https://localhost:8080/"
        },
        "id": "ScccZL5hGRZj",
        "outputId": "705eb6ad-6d36-49b2-eae7-46426ce69b3f"
      },
      "execution_count": 9,
      "outputs": [
        {
          "output_type": "stream",
          "name": "stdout",
          "text": [
            "Tupla:  (5, 8, 7, 9, 5, 4, 7) Primer:  5 Ultimo:  7 Rango: 2-6  (7, 9, 5, 4)\n",
            "2\n"
          ]
        }
      ]
    },
    {
      "cell_type": "code",
      "source": [
        "semana = (\"domingo\", \"lunes\", \"martes\", \"miercoles\", \"jueves\", \"viernes\", \"sabado\")\n",
        "print(\"Primer dia: \",semana[0], \"; Cuantas veces se repite domingo: \",semana.count(\"domingo\"), \"; dias de la semana: \", len(semana))"
      ],
      "metadata": {
        "colab": {
          "base_uri": "https://localhost:8080/"
        },
        "id": "sDuYXeHrGk5b",
        "outputId": "78f64bf9-4240-4eaf-a9a1-f19571f99da6"
      },
      "execution_count": 11,
      "outputs": [
        {
          "output_type": "stream",
          "name": "stdout",
          "text": [
            "Primer dia:  domingo ; Cuantas veces se repite domingo:  1 ; dias de la semana:  7\n"
          ]
        }
      ]
    },
    {
      "cell_type": "code",
      "source": [
        "import datetime\n",
        "hoy = datetime.date.today()\n",
        "dia = hoy.day\n",
        "mes = hoy.month\n",
        "year = hoy.year\n",
        "dia_semana = hoy.isoweekday()\n",
        "\n",
        "semana = (\"domingo\",\"lunes\",\"martes\",\"miercoles\",\"jueves\", \"viernes\", \"sabado\")\n",
        "meses = (\"enero\", \"febrero\", \"marzo\", \"abril\", \"mayo\", \"junio\", \"julio\", \"agosto\", \"septiembre\", \"octubre\", \"noviembre\", \"diciembre\")\n",
        "\n",
        "print(\"Fecha: \", semana[dia_semana], dia, \" de \", meses[mes], \" del \", year)"
      ],
      "metadata": {
        "colab": {
          "base_uri": "https://localhost:8080/"
        },
        "id": "osGKP5iFG7IG",
        "outputId": "572cb2f6-d99f-431a-b04c-f154997732d9"
      },
      "execution_count": 12,
      "outputs": [
        {
          "output_type": "stream",
          "name": "stdout",
          "text": [
            "Fecha:  miercoles 7  de  septiembre  del  2024\n"
          ]
        }
      ]
    },
    {
      "cell_type": "code",
      "source": [
        "tuplas = (\"Luis\",\"Juan\")\n",
        "#tuplas[0] = \"Pedro\" #Las tuplas son inmutables, no puede cambiar su valor.\n",
        "print(tuplas)\n",
        "\n",
        "listas = [\"Luis\",\"Juan\"]\n",
        "listas[0] = \"Pedro\" #Las listas son mutables, si puede cambiar su valor.\n",
        "print(listas)"
      ],
      "metadata": {
        "colab": {
          "base_uri": "https://localhost:8080/"
        },
        "id": "4H8W4wZpHPTV",
        "outputId": "72ee499c-05c6-4a72-ac00-968a2e0e6cd8"
      },
      "execution_count": 13,
      "outputs": [
        {
          "output_type": "stream",
          "name": "stdout",
          "text": [
            "('Luis', 'Juan')\n",
            "['Pedro', 'Juan']\n"
          ]
        }
      ]
    },
    {
      "cell_type": "markdown",
      "source": [
        "**LISTAS**"
      ],
      "metadata": {
        "id": "qs12lgf9HTCx"
      }
    },
    {
      "cell_type": "code",
      "source": [
        "listas = [5,8,7,9,\"Luis\", \"Yuvi\", \"Monica\"]\n",
        "print(listas, listas[-1])"
      ],
      "metadata": {
        "colab": {
          "base_uri": "https://localhost:8080/"
        },
        "id": "hupYW4emHWCh",
        "outputId": "04005b84-e41b-415d-be2a-35b4beb38c99"
      },
      "execution_count": 14,
      "outputs": [
        {
          "output_type": "stream",
          "name": "stdout",
          "text": [
            "[5, 8, 7, 9, 'Luis', 'Yuvi', 'Monica'] Monica\n"
          ]
        }
      ]
    },
    {
      "cell_type": "code",
      "source": [
        "def obtenerNota(nota, eval):\n",
        "  return eval[1]*0.3 + nota"
      ],
      "metadata": {
        "id": "TxHOLKABHnKn"
      },
      "execution_count": 15,
      "outputs": []
    },
    {
      "cell_type": "code",
      "source": [
        "matriz = [ [\"Lab1\", 10],[\"Lab2\", 9], [\"Parcial\", 8] ] #10*0.3=3 + 9*0.3=2.7 + 8*0.3=2.4\n",
        "reduce(obtenerNota, matriz, 0)"
      ],
      "metadata": {
        "colab": {
          "base_uri": "https://localhost:8080/"
        },
        "id": "KXG6TFb5HoWj",
        "outputId": "444d1d89-2048-45d0-c8d5-461bfd4a520e"
      },
      "execution_count": 17,
      "outputs": [
        {
          "output_type": "execute_result",
          "data": {
            "text/plain": [
              "8.1"
            ]
          },
          "metadata": {},
          "execution_count": 17
        }
      ]
    }
  ]
}