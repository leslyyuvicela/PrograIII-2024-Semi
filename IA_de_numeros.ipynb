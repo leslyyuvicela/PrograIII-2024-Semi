{
  "nbformat": 4,
  "nbformat_minor": 0,
  "metadata": {
    "colab": {
      "provenance": [],
      "authorship_tag": "ABX9TyP/k8pxXISShyN8h+izVoB7",
      "include_colab_link": true
    },
    "kernelspec": {
      "name": "python3",
      "display_name": "Python 3"
    },
    "language_info": {
      "name": "python"
    },
    "widgets": {
      "application/vnd.jupyter.widget-state+json": {
        "7d831e280ff341849f0b465e5d606b3f": {
          "model_module": "@jupyter-widgets/controls",
          "model_name": "HBoxModel",
          "model_module_version": "1.5.0",
          "state": {
            "_dom_classes": [],
            "_model_module": "@jupyter-widgets/controls",
            "_model_module_version": "1.5.0",
            "_model_name": "HBoxModel",
            "_view_count": null,
            "_view_module": "@jupyter-widgets/controls",
            "_view_module_version": "1.5.0",
            "_view_name": "HBoxView",
            "box_style": "",
            "children": [
              "IPY_MODEL_2d12601e187c466296ed119f61480da8",
              "IPY_MODEL_dd2ac14349e3497ba5ce081f3badb481",
              "IPY_MODEL_fbdbd6942b6a49d2a177f0d89860a70d"
            ],
            "layout": "IPY_MODEL_86b4bb0e9674488887fe3d234faefb8d"
          }
        },
        "2d12601e187c466296ed119f61480da8": {
          "model_module": "@jupyter-widgets/controls",
          "model_name": "HTMLModel",
          "model_module_version": "1.5.0",
          "state": {
            "_dom_classes": [],
            "_model_module": "@jupyter-widgets/controls",
            "_model_module_version": "1.5.0",
            "_model_name": "HTMLModel",
            "_view_count": null,
            "_view_module": "@jupyter-widgets/controls",
            "_view_module_version": "1.5.0",
            "_view_name": "HTMLView",
            "description": "",
            "description_tooltip": null,
            "layout": "IPY_MODEL_1ccbe0a686354dc8b9790d2119440fc7",
            "placeholder": "​",
            "style": "IPY_MODEL_f7d61686bfe14d06a34b7bdd191eda6b",
            "value": "Dl Completed...: 100%"
          }
        },
        "dd2ac14349e3497ba5ce081f3badb481": {
          "model_module": "@jupyter-widgets/controls",
          "model_name": "FloatProgressModel",
          "model_module_version": "1.5.0",
          "state": {
            "_dom_classes": [],
            "_model_module": "@jupyter-widgets/controls",
            "_model_module_version": "1.5.0",
            "_model_name": "FloatProgressModel",
            "_view_count": null,
            "_view_module": "@jupyter-widgets/controls",
            "_view_module_version": "1.5.0",
            "_view_name": "ProgressView",
            "bar_style": "success",
            "description": "",
            "description_tooltip": null,
            "layout": "IPY_MODEL_c81117e6f3934479bc6d108e38716109",
            "max": 5,
            "min": 0,
            "orientation": "horizontal",
            "style": "IPY_MODEL_ea6f08c7a81d4a5b92525acd503aee36",
            "value": 5
          }
        },
        "fbdbd6942b6a49d2a177f0d89860a70d": {
          "model_module": "@jupyter-widgets/controls",
          "model_name": "HTMLModel",
          "model_module_version": "1.5.0",
          "state": {
            "_dom_classes": [],
            "_model_module": "@jupyter-widgets/controls",
            "_model_module_version": "1.5.0",
            "_model_name": "HTMLModel",
            "_view_count": null,
            "_view_module": "@jupyter-widgets/controls",
            "_view_module_version": "1.5.0",
            "_view_name": "HTMLView",
            "description": "",
            "description_tooltip": null,
            "layout": "IPY_MODEL_b38e384e37ac408f9b69982379b8a213",
            "placeholder": "​",
            "style": "IPY_MODEL_457a366ba0294b869bfbbd50856d8dcf",
            "value": " 5/5 [00:00&lt;00:00,  8.74 file/s]"
          }
        },
        "86b4bb0e9674488887fe3d234faefb8d": {
          "model_module": "@jupyter-widgets/base",
          "model_name": "LayoutModel",
          "model_module_version": "1.2.0",
          "state": {
            "_model_module": "@jupyter-widgets/base",
            "_model_module_version": "1.2.0",
            "_model_name": "LayoutModel",
            "_view_count": null,
            "_view_module": "@jupyter-widgets/base",
            "_view_module_version": "1.2.0",
            "_view_name": "LayoutView",
            "align_content": null,
            "align_items": null,
            "align_self": null,
            "border": null,
            "bottom": null,
            "display": null,
            "flex": null,
            "flex_flow": null,
            "grid_area": null,
            "grid_auto_columns": null,
            "grid_auto_flow": null,
            "grid_auto_rows": null,
            "grid_column": null,
            "grid_gap": null,
            "grid_row": null,
            "grid_template_areas": null,
            "grid_template_columns": null,
            "grid_template_rows": null,
            "height": null,
            "justify_content": null,
            "justify_items": null,
            "left": null,
            "margin": null,
            "max_height": null,
            "max_width": null,
            "min_height": null,
            "min_width": null,
            "object_fit": null,
            "object_position": null,
            "order": null,
            "overflow": null,
            "overflow_x": null,
            "overflow_y": null,
            "padding": null,
            "right": null,
            "top": null,
            "visibility": null,
            "width": null
          }
        },
        "1ccbe0a686354dc8b9790d2119440fc7": {
          "model_module": "@jupyter-widgets/base",
          "model_name": "LayoutModel",
          "model_module_version": "1.2.0",
          "state": {
            "_model_module": "@jupyter-widgets/base",
            "_model_module_version": "1.2.0",
            "_model_name": "LayoutModel",
            "_view_count": null,
            "_view_module": "@jupyter-widgets/base",
            "_view_module_version": "1.2.0",
            "_view_name": "LayoutView",
            "align_content": null,
            "align_items": null,
            "align_self": null,
            "border": null,
            "bottom": null,
            "display": null,
            "flex": null,
            "flex_flow": null,
            "grid_area": null,
            "grid_auto_columns": null,
            "grid_auto_flow": null,
            "grid_auto_rows": null,
            "grid_column": null,
            "grid_gap": null,
            "grid_row": null,
            "grid_template_areas": null,
            "grid_template_columns": null,
            "grid_template_rows": null,
            "height": null,
            "justify_content": null,
            "justify_items": null,
            "left": null,
            "margin": null,
            "max_height": null,
            "max_width": null,
            "min_height": null,
            "min_width": null,
            "object_fit": null,
            "object_position": null,
            "order": null,
            "overflow": null,
            "overflow_x": null,
            "overflow_y": null,
            "padding": null,
            "right": null,
            "top": null,
            "visibility": null,
            "width": null
          }
        },
        "f7d61686bfe14d06a34b7bdd191eda6b": {
          "model_module": "@jupyter-widgets/controls",
          "model_name": "DescriptionStyleModel",
          "model_module_version": "1.5.0",
          "state": {
            "_model_module": "@jupyter-widgets/controls",
            "_model_module_version": "1.5.0",
            "_model_name": "DescriptionStyleModel",
            "_view_count": null,
            "_view_module": "@jupyter-widgets/base",
            "_view_module_version": "1.2.0",
            "_view_name": "StyleView",
            "description_width": ""
          }
        },
        "c81117e6f3934479bc6d108e38716109": {
          "model_module": "@jupyter-widgets/base",
          "model_name": "LayoutModel",
          "model_module_version": "1.2.0",
          "state": {
            "_model_module": "@jupyter-widgets/base",
            "_model_module_version": "1.2.0",
            "_model_name": "LayoutModel",
            "_view_count": null,
            "_view_module": "@jupyter-widgets/base",
            "_view_module_version": "1.2.0",
            "_view_name": "LayoutView",
            "align_content": null,
            "align_items": null,
            "align_self": null,
            "border": null,
            "bottom": null,
            "display": null,
            "flex": null,
            "flex_flow": null,
            "grid_area": null,
            "grid_auto_columns": null,
            "grid_auto_flow": null,
            "grid_auto_rows": null,
            "grid_column": null,
            "grid_gap": null,
            "grid_row": null,
            "grid_template_areas": null,
            "grid_template_columns": null,
            "grid_template_rows": null,
            "height": null,
            "justify_content": null,
            "justify_items": null,
            "left": null,
            "margin": null,
            "max_height": null,
            "max_width": null,
            "min_height": null,
            "min_width": null,
            "object_fit": null,
            "object_position": null,
            "order": null,
            "overflow": null,
            "overflow_x": null,
            "overflow_y": null,
            "padding": null,
            "right": null,
            "top": null,
            "visibility": null,
            "width": null
          }
        },
        "ea6f08c7a81d4a5b92525acd503aee36": {
          "model_module": "@jupyter-widgets/controls",
          "model_name": "ProgressStyleModel",
          "model_module_version": "1.5.0",
          "state": {
            "_model_module": "@jupyter-widgets/controls",
            "_model_module_version": "1.5.0",
            "_model_name": "ProgressStyleModel",
            "_view_count": null,
            "_view_module": "@jupyter-widgets/base",
            "_view_module_version": "1.2.0",
            "_view_name": "StyleView",
            "bar_color": null,
            "description_width": ""
          }
        },
        "b38e384e37ac408f9b69982379b8a213": {
          "model_module": "@jupyter-widgets/base",
          "model_name": "LayoutModel",
          "model_module_version": "1.2.0",
          "state": {
            "_model_module": "@jupyter-widgets/base",
            "_model_module_version": "1.2.0",
            "_model_name": "LayoutModel",
            "_view_count": null,
            "_view_module": "@jupyter-widgets/base",
            "_view_module_version": "1.2.0",
            "_view_name": "LayoutView",
            "align_content": null,
            "align_items": null,
            "align_self": null,
            "border": null,
            "bottom": null,
            "display": null,
            "flex": null,
            "flex_flow": null,
            "grid_area": null,
            "grid_auto_columns": null,
            "grid_auto_flow": null,
            "grid_auto_rows": null,
            "grid_column": null,
            "grid_gap": null,
            "grid_row": null,
            "grid_template_areas": null,
            "grid_template_columns": null,
            "grid_template_rows": null,
            "height": null,
            "justify_content": null,
            "justify_items": null,
            "left": null,
            "margin": null,
            "max_height": null,
            "max_width": null,
            "min_height": null,
            "min_width": null,
            "object_fit": null,
            "object_position": null,
            "order": null,
            "overflow": null,
            "overflow_x": null,
            "overflow_y": null,
            "padding": null,
            "right": null,
            "top": null,
            "visibility": null,
            "width": null
          }
        },
        "457a366ba0294b869bfbbd50856d8dcf": {
          "model_module": "@jupyter-widgets/controls",
          "model_name": "DescriptionStyleModel",
          "model_module_version": "1.5.0",
          "state": {
            "_model_module": "@jupyter-widgets/controls",
            "_model_module_version": "1.5.0",
            "_model_name": "DescriptionStyleModel",
            "_view_count": null,
            "_view_module": "@jupyter-widgets/base",
            "_view_module_version": "1.2.0",
            "_view_name": "StyleView",
            "description_width": ""
          }
        }
      }
    }
  },
  "cells": [
    {
      "cell_type": "markdown",
      "metadata": {
        "id": "view-in-github",
        "colab_type": "text"
      },
      "source": [
        "<a href=\"https://colab.research.google.com/github/leslyyuvicela/PrograIII-2024-Semi/blob/Bloque_3/IA_de_numeros.ipynb\" target=\"_parent\"><img src=\"https://colab.research.google.com/assets/colab-badge.svg\" alt=\"Open In Colab\"/></a>"
      ]
    },
    {
      "cell_type": "code",
      "execution_count": 1,
      "metadata": {
        "id": "870N-vuIBF7e"
      },
      "outputs": [],
      "source": [
        "#importar las librerias necesarias.\n",
        "import tensorflow as tf\n",
        "import matplotlib.pyplot as plt\n",
        "import numpy as np\n",
        "import pandas as pd\n",
        "import math\n",
        "import tensorflow_datasets as tfds"
      ]
    },
    {
      "cell_type": "code",
      "source": [
        "#cargamos el dataset\n",
        "dataset, metadata = tfds.load('mnist', as_supervised=True, with_info=True)\n",
        "datos_entrenamiento, datos_prueba = dataset['train'], dataset['test']\n",
        "#print(datos_entrenamiento)"
      ],
      "metadata": {
        "colab": {
          "base_uri": "https://localhost:8080/",
          "height": 85,
          "referenced_widgets": [
            "7d831e280ff341849f0b465e5d606b3f",
            "2d12601e187c466296ed119f61480da8",
            "dd2ac14349e3497ba5ce081f3badb481",
            "fbdbd6942b6a49d2a177f0d89860a70d",
            "86b4bb0e9674488887fe3d234faefb8d",
            "1ccbe0a686354dc8b9790d2119440fc7",
            "f7d61686bfe14d06a34b7bdd191eda6b",
            "c81117e6f3934479bc6d108e38716109",
            "ea6f08c7a81d4a5b92525acd503aee36",
            "b38e384e37ac408f9b69982379b8a213",
            "457a366ba0294b869bfbbd50856d8dcf"
          ]
        },
        "id": "kLY16JSpCMb9",
        "outputId": "5b69c24d-d03f-449f-b48b-56b0a246cbf3"
      },
      "execution_count": 2,
      "outputs": [
        {
          "output_type": "stream",
          "name": "stdout",
          "text": [
            "Downloading and preparing dataset 11.06 MiB (download: 11.06 MiB, generated: 21.00 MiB, total: 32.06 MiB) to /root/tensorflow_datasets/mnist/3.0.1...\n"
          ]
        },
        {
          "output_type": "display_data",
          "data": {
            "text/plain": [
              "Dl Completed...:   0%|          | 0/5 [00:00<?, ? file/s]"
            ],
            "application/vnd.jupyter.widget-view+json": {
              "version_major": 2,
              "version_minor": 0,
              "model_id": "7d831e280ff341849f0b465e5d606b3f"
            }
          },
          "metadata": {}
        },
        {
          "output_type": "stream",
          "name": "stdout",
          "text": [
            "Dataset mnist downloaded and prepared to /root/tensorflow_datasets/mnist/3.0.1. Subsequent calls will reuse this data.\n"
          ]
        }
      ]
    },
    {
      "cell_type": "code",
      "source": [
        "#asignacion de etiquetas\n",
        "numero_letras = [\"Cero\", \"Uno\", \"Dos\", \"Tres\", \"Cuatro\", \"Cinco\", \"Seis\", \"Siete\", \"Ocho\", \"Nueve\"]"
      ],
      "metadata": {
        "id": "M-EUvKOfCrsN"
      },
      "execution_count": 3,
      "outputs": []
    },
    {
      "cell_type": "code",
      "source": [
        "#pasar los datos del dataset a variables\n",
        "numeros_ejemplo_entrenamiento = metadata.splits['train'].num_examples\n",
        "#print(numeros_ejemplo_entrenamiento)\n",
        "\n",
        "numeros_ejemplo_prueba = metadata.splits['test'].num_examples\n",
        "#print(numeros_ejemplo_prueba)"
      ],
      "metadata": {
        "id": "o80Ezxa1C4re"
      },
      "execution_count": 4,
      "outputs": []
    },
    {
      "cell_type": "code",
      "source": [
        "img = datos_prueba.take(1)\n",
        "print(img)"
      ],
      "metadata": {
        "colab": {
          "base_uri": "https://localhost:8080/"
        },
        "id": "ffRWtG6SD1sU",
        "outputId": "0c3dddf0-6413-4370-dc85-2e901c12c507"
      },
      "execution_count": 5,
      "outputs": [
        {
          "output_type": "stream",
          "name": "stdout",
          "text": [
            "<_TakeDataset element_spec=(TensorSpec(shape=(28, 28, 1), dtype=tf.uint8, name=None), TensorSpec(shape=(), dtype=tf.int64, name=None))>\n"
          ]
        }
      ]
    },
    {
      "cell_type": "code",
      "source": [
        "#funcion normalizadora de los pixeles de 0 a 255 para que vaya de 0 a 1\n",
        "def normalizacion(imagenes, etiquetas):\n",
        "  imagenes = tf.cast(imagenes, tf.float32)\n",
        "  imagenes /= 255 # 138/255 = 0.541176\n",
        "  return imagenes, etiquetas"
      ],
      "metadata": {
        "id": "JF4ZDHeZEEz5"
      },
      "execution_count": 6,
      "outputs": []
    },
    {
      "cell_type": "code",
      "source": [
        "#normalizamos los datos de entrenamiento y prueba\n",
        "datos_entrenamiento = datos_entrenamiento.map(normalizacion)\n",
        "datos_prueba = datos_prueba.map(normalizacion)"
      ],
      "metadata": {
        "id": "VMGAH-ALE33Y"
      },
      "execution_count": 7,
      "outputs": []
    },
    {
      "cell_type": "code",
      "source": [
        "#creamos el modelo de nuestra red neuronal.\n",
        "modelo = tf.keras.Sequential([\n",
        "    tf.keras.layers.Flatten(input_shape=(28, 28, 1)),\n",
        "    tf.keras.layers.Dense(64, activation=tf.nn.relu),\n",
        "    tf.keras.layers.Dense(64, activation=tf.nn.relu),\n",
        "    tf.keras.layers.Dense(10, activation=tf.nn.softmax)\n",
        "])"
      ],
      "metadata": {
        "colab": {
          "base_uri": "https://localhost:8080/"
        },
        "id": "8EhtGEiSE_tj",
        "outputId": "617eb1c8-cac4-4285-e01f-b36ab0ffca11"
      },
      "execution_count": 8,
      "outputs": [
        {
          "output_type": "stream",
          "name": "stderr",
          "text": [
            "/usr/local/lib/python3.10/dist-packages/keras/src/layers/reshaping/flatten.py:37: UserWarning: Do not pass an `input_shape`/`input_dim` argument to a layer. When using Sequential models, prefer using an `Input(shape)` object as the first layer in the model instead.\n",
            "  super().__init__(**kwargs)\n"
          ]
        }
      ]
    },
    {
      "cell_type": "code",
      "source": [
        "#compilamos el modelo de la red neuronal.\n",
        "modelo.compile(\n",
        "    optimizer='adam',\n",
        "    loss='sparse_categorical_crossentropy',\n",
        "    metrics=['accuracy']\n",
        ")"
      ],
      "metadata": {
        "id": "_uo5uxQPF4xy"
      },
      "execution_count": 9,
      "outputs": []
    },
    {
      "cell_type": "code",
      "source": [
        "#entrenamos la red neuronal por lotes.\n",
        "tamano_lote = 32 #60,000/32 = 1875 imagenes.\n",
        "datos_entrenamiento = datos_entrenamiento.repeat().shuffle(numeros_ejemplo_entrenamiento).batch(tamano_lote)\n",
        "datos_prueba = datos_prueba.repeat().shuffle(numeros_ejemplo_prueba).batch(tamano_lote)\n",
        "#"
      ],
      "metadata": {
        "id": "ITThd9n3GPX7"
      },
      "execution_count": 10,
      "outputs": []
    },
    {
      "cell_type": "code",
      "source": [
        "#entrenamos nuestro modelo de datos.\n",
        "modelo.fit(datos_entrenamiento, epochs=5,\n",
        "           steps_per_epoch=math.ceil(numeros_ejemplo_entrenamiento/tamano_lote))"
      ],
      "metadata": {
        "colab": {
          "base_uri": "https://localhost:8080/"
        },
        "id": "4sh-1r2yHBbt",
        "outputId": "dc3264c9-8a41-4ea4-c9ab-83df7189944a"
      },
      "execution_count": 11,
      "outputs": [
        {
          "output_type": "stream",
          "name": "stdout",
          "text": [
            "Epoch 1/5\n",
            "\u001b[1m1875/1875\u001b[0m \u001b[32m━━━━━━━━━━━━━━━━━━━━\u001b[0m\u001b[37m\u001b[0m \u001b[1m14s\u001b[0m 4ms/step - accuracy: 0.8534 - loss: 0.4944\n",
            "Epoch 2/5\n",
            "\u001b[1m1875/1875\u001b[0m \u001b[32m━━━━━━━━━━━━━━━━━━━━\u001b[0m\u001b[37m\u001b[0m \u001b[1m6s\u001b[0m 3ms/step - accuracy: 0.9609 - loss: 0.1336\n",
            "Epoch 3/5\n",
            "\u001b[1m1875/1875\u001b[0m \u001b[32m━━━━━━━━━━━━━━━━━━━━\u001b[0m\u001b[37m\u001b[0m \u001b[1m8s\u001b[0m 4ms/step - accuracy: 0.9693 - loss: 0.1004\n",
            "Epoch 4/5\n",
            "\u001b[1m1875/1875\u001b[0m \u001b[32m━━━━━━━━━━━━━━━━━━━━\u001b[0m\u001b[37m\u001b[0m \u001b[1m6s\u001b[0m 3ms/step - accuracy: 0.9778 - loss: 0.0722\n",
            "Epoch 5/5\n",
            "\u001b[1m1875/1875\u001b[0m \u001b[32m━━━━━━━━━━━━━━━━━━━━\u001b[0m\u001b[37m\u001b[0m \u001b[1m9s\u001b[0m 5ms/step - accuracy: 0.9808 - loss: 0.0615\n"
          ]
        },
        {
          "output_type": "execute_result",
          "data": {
            "text/plain": [
              "<keras.src.callbacks.history.History at 0x79677c681060>"
            ]
          },
          "metadata": {},
          "execution_count": 11
        }
      ]
    },
    {
      "cell_type": "code",
      "source": [
        "#evaluamos el modelo.\n",
        "test_loss, test_accuracy = modelo.evaluate(datos_prueba, steps=math.ceil(numeros_ejemplo_prueba/tamano_lote))\n",
        "print('Resultado de las pruebas: ', test_accuracy)"
      ],
      "metadata": {
        "colab": {
          "base_uri": "https://localhost:8080/"
        },
        "id": "rhyHbV0dIWax",
        "outputId": "05ca02a6-e86e-46e6-cae4-76a98e9d9180"
      },
      "execution_count": 12,
      "outputs": [
        {
          "output_type": "stream",
          "name": "stdout",
          "text": [
            "\u001b[1m313/313\u001b[0m \u001b[32m━━━━━━━━━━━━━━━━━━━━\u001b[0m\u001b[37m\u001b[0m \u001b[1m2s\u001b[0m 2ms/step - accuracy: 0.9711 - loss: 0.0911\n",
            "Resultado de las pruebas:  0.9718450307846069\n"
          ]
        }
      ]
    },
    {
      "cell_type": "code",
      "source": [
        "#convertir en mtrices las imganes usando numpy\n",
        "for imagenes_prueba, etiquetas_prueba in datos_prueba.take(1):\n",
        "  imagenes_prueba = imagenes_prueba.numpy()\n",
        "  etiquetas_prueba = etiquetas_prueba.numpy()\n",
        "  predicciones = modelo.predict(imagenes_prueba)\n",
        "  print(predicciones)"
      ],
      "metadata": {
        "colab": {
          "base_uri": "https://localhost:8080/"
        },
        "id": "XREVv3D6I-5v",
        "outputId": "4e696ac2-e5c0-4f77-acdd-7460c988bb70"
      },
      "execution_count": 13,
      "outputs": [
        {
          "output_type": "stream",
          "name": "stdout",
          "text": [
            "\u001b[1m1/1\u001b[0m \u001b[32m━━━━━━━━━━━━━━━━━━━━\u001b[0m\u001b[37m\u001b[0m \u001b[1m0s\u001b[0m 61ms/step\n",
            "[[7.96090082e-13 4.39681125e-10 2.02281920e-12 1.43701334e-06\n",
            "  1.77475743e-15 9.99998152e-01 6.31326236e-09 2.20437194e-13\n",
            "  3.11000065e-07 8.34061922e-08]\n",
            " [2.22620811e-09 3.96478928e-15 3.80333737e-10 3.43323482e-12\n",
            "  6.54643787e-12 1.93565317e-10 9.99999940e-01 4.06253373e-13\n",
            "  6.66011246e-09 9.95289463e-14]\n",
            " [3.27124289e-05 4.53242194e-10 9.99920428e-01 7.92772607e-06\n",
            "  8.87951671e-07 1.87953986e-09 4.20584847e-08 1.18271455e-05\n",
            "  2.60540000e-05 1.10067977e-09]\n",
            " [3.28815382e-12 5.85633453e-09 3.92394339e-09 9.99956071e-01\n",
            "  7.25991099e-13 4.28383464e-05 2.48943466e-12 1.57982211e-10\n",
            "  2.78742842e-08 1.09254029e-06]\n",
            " [1.15776122e-09 1.81512032e-08 1.13545251e-09 3.94459335e-07\n",
            "  9.99952972e-01 2.73031873e-07 1.53638838e-11 1.42203032e-06\n",
            "  8.52267856e-09 4.48666724e-05]\n",
            " [3.56335675e-13 3.44811667e-07 1.26769064e-05 3.31025185e-05\n",
            "  3.65592712e-12 6.78980816e-10 6.22141770e-13 9.99953806e-01\n",
            "  5.61869384e-10 7.93651186e-11]\n",
            " [9.99781132e-01 1.50161550e-09 7.28600571e-06 4.10667690e-06\n",
            "  3.33499884e-07 1.49675964e-06 3.73280113e-06 2.56145131e-06\n",
            "  1.67981270e-05 1.82480522e-04]\n",
            " [4.35396892e-08 1.06760133e-07 9.02369993e-06 9.96462107e-01\n",
            "  1.98396063e-10 2.40732520e-03 1.50807648e-11 2.18784905e-07\n",
            "  1.05061138e-03 7.04945633e-05]\n",
            " [3.72298037e-09 1.72177272e-10 1.37981187e-05 1.65397100e-08\n",
            "  9.99978721e-01 1.75414583e-09 8.83495147e-07 2.90663604e-09\n",
            "  3.45144969e-07 6.16519492e-06]\n",
            " [1.14171736e-12 4.51858506e-09 1.38674977e-07 9.99948442e-01\n",
            "  4.27323887e-14 4.75455599e-05 1.24907468e-14 1.13109622e-09\n",
            "  3.13405303e-06 7.30469310e-07]\n",
            " [2.49749590e-08 4.67074133e-13 1.40228620e-08 1.54390264e-10\n",
            "  2.81596257e-09 3.03940151e-10 9.99999940e-01 1.33541398e-12\n",
            "  1.29412714e-09 7.50556735e-13]\n",
            " [6.27899368e-04 9.59942056e-11 3.17165877e-10 3.62583080e-07\n",
            "  1.57395663e-09 1.78254311e-04 9.99192655e-01 1.67662528e-09\n",
            "  6.65079028e-07 1.35548532e-07]\n",
            " [1.66886904e-11 5.23161361e-05 2.23240892e-08 1.93995045e-04\n",
            "  9.62646074e-10 9.88611758e-01 2.35740501e-07 6.30123509e-08\n",
            "  7.09871110e-03 4.04287828e-03]\n",
            " [9.99998987e-01 7.44882332e-14 2.34490756e-08 2.29917134e-08\n",
            "  6.31269551e-11 1.66251168e-09 2.65485028e-07 1.36985714e-10\n",
            "  7.31178147e-07 1.79167277e-08]\n",
            " [1.40016368e-06 2.61060262e-09 9.99729633e-01 1.15528055e-05\n",
            "  2.13968269e-06 2.35478220e-10 2.53610895e-04 1.43924115e-06\n",
            "  2.56535884e-07 1.99625757e-13]\n",
            " [3.01400627e-10 4.24484181e-09 3.08318704e-10 2.56159621e-10\n",
            "  9.99999940e-01 5.30528330e-11 4.39909220e-10 1.84901356e-08\n",
            "  5.39685763e-09 3.93268138e-08]\n",
            " [4.59713240e-11 6.78742895e-10 1.25829676e-08 3.11459997e-04\n",
            "  2.54826518e-05 2.66801192e-10 2.44600746e-11 1.33367712e-06\n",
            "  1.12719670e-06 9.99660611e-01]\n",
            " [5.04293141e-08 1.65425735e-08 7.81845557e-08 1.47006967e-05\n",
            "  2.79349450e-04 1.36570293e-08 2.63956669e-11 4.99644921e-06\n",
            "  9.24276549e-07 9.99699831e-01]\n",
            " [4.69938588e-10 6.95506486e-10 1.07322410e-06 9.07229769e-05\n",
            "  2.39561064e-06 8.19765731e-08 1.65284487e-11 1.49653724e-05\n",
            "  1.82740195e-07 9.99890506e-01]\n",
            " [2.85100072e-07 9.95740771e-01 3.36999597e-06 1.62911183e-05\n",
            "  1.75741501e-04 1.10357905e-06 2.73475462e-06 4.02938994e-03\n",
            "  2.98735304e-05 5.39904818e-07]\n",
            " [1.10331747e-07 8.12295730e-06 5.95096981e-06 9.98480380e-01\n",
            "  5.30556150e-08 2.80309672e-04 3.88921118e-09 9.74649811e-06\n",
            "  1.09387154e-03 1.21527846e-04]\n",
            " [1.90777049e-04 2.32493505e-04 2.56318133e-03 9.66745675e-01\n",
            "  1.91306140e-06 2.18289977e-04 9.73870283e-06 2.68176030e-02\n",
            "  1.26152579e-03 1.95867778e-03]\n",
            " [6.90066256e-04 2.52948049e-03 2.74663739e-06 1.78004359e-03\n",
            "  1.88211456e-01 2.86136218e-03 2.20513393e-04 7.98824191e-01\n",
            "  6.66162123e-06 4.87347459e-03]\n",
            " [9.02469401e-05 5.16473919e-10 1.84532265e-08 1.70121467e-07\n",
            "  5.41993010e-08 1.58962812e-05 9.99884307e-01 9.99563210e-10\n",
            "  9.12201722e-06 1.04802949e-08]\n",
            " [2.33792430e-09 4.55900262e-10 2.85403745e-04 3.69993236e-09\n",
            "  9.99714017e-01 6.41748765e-10 1.87812805e-08 2.20103740e-08\n",
            "  1.34855727e-09 5.76656475e-07]\n",
            " [1.41954333e-13 8.71630199e-12 4.56037465e-11 1.64706626e-06\n",
            "  4.00645393e-16 9.99998152e-01 2.53745618e-11 7.52743137e-13\n",
            "  7.70083091e-08 8.62958038e-10]\n",
            " [9.01879076e-14 7.68346220e-10 5.78876591e-09 9.99999464e-01\n",
            "  3.03716416e-13 5.02710861e-07 2.17272663e-12 1.08188241e-11\n",
            "  2.27510746e-10 2.78848805e-10]\n",
            " [9.99998987e-01 8.99373569e-15 3.25441757e-10 3.05679926e-10\n",
            "  9.00991955e-13 2.40663468e-07 7.48336220e-07 2.29374786e-09\n",
            "  3.32824190e-09 2.66705369e-09]\n",
            " [9.99942958e-01 1.23695878e-12 3.64117841e-05 4.00831482e-07\n",
            "  8.62082489e-11 2.95477793e-08 9.02183643e-08 6.54845067e-08\n",
            "  5.40932433e-07 1.94365712e-05]\n",
            " [4.55388338e-10 4.05430287e-14 9.99999940e-01 1.25134558e-09\n",
            "  4.66125305e-10 4.64511716e-14 1.29102879e-08 1.90075538e-12\n",
            "  2.68271894e-09 2.44659677e-17]\n",
            " [7.68069608e-09 5.61295685e-08 1.01862702e-06 1.42096212e-07\n",
            "  9.99995530e-01 5.90656768e-08 1.25098039e-08 2.27915757e-06\n",
            "  5.79250980e-07 2.33013651e-07]\n",
            " [9.18511489e-07 2.21081536e-05 2.85442311e-05 3.78397497e-04\n",
            "  2.96703614e-02 1.68480449e-06 9.35406774e-08 2.56968918e-03\n",
            "  2.49542121e-04 9.67078567e-01]]\n"
          ]
        }
      ]
    },
    {
      "cell_type": "code",
      "source": [
        "def graficar_imagen(i, predicciones_array, etiquetas_reales, imagenes):\n",
        "  predicciones_array, etiqueta_real, img = predicciones_array[i], etiquetas_reales[i], imagenes[i]\n",
        "  plt.grid(False)\n",
        "  plt.xticks([])\n",
        "  plt.yticks([])\n",
        "\n",
        "  plt.imshow(img[...,0], cmap=plt.cm.binary)\n",
        "\n",
        "  etiqueta_prediccion = np.argmax(predicciones_array)\n",
        "  if etiqueta_prediccion == etiqueta_real:\n",
        "    color = 'blue'\n",
        "  else:\n",
        "    color = 'red'\n",
        "  plt.xlabel(\"Prediccion: {}\".format(numero_letras[etiqueta_prediccion]), color=color)"
      ],
      "metadata": {
        "id": "cqvEa5UvJbzw"
      },
      "execution_count": 14,
      "outputs": []
    },
    {
      "cell_type": "code",
      "source": [
        "#graficamos los valores de las matrices.\n",
        "def graficar_valores_predicciones(i, predicciones_array, etiquetas_reales):\n",
        "  predicciones_array, etiqueta_real = predicciones_array[i], etiquetas_reales[i]\n",
        "  plt.grid(False)\n",
        "  plt.xticks(range(10))\n",
        "  plt.yticks([])\n",
        "  thisplot = plt.bar(range(10), predicciones_array, color=\"#888888\")\n",
        "  plt.ylim([0, 1])\n",
        "  etiqueta_prediccion = np.argmax(predicciones_array)\n",
        "\n",
        "  thisplot[etiqueta_prediccion].set_color('red')\n",
        "  thisplot[etiqueta_real].set_color('blue')"
      ],
      "metadata": {
        "id": "v_boznHuKtF8"
      },
      "execution_count": 15,
      "outputs": []
    },
    {
      "cell_type": "code",
      "source": [
        "#Realizamos la grafica por cada imagen.\n",
        "num_filas = 5\n",
        "num_columnas = 3\n",
        "num_imagenes = num_filas*num_columnas\n",
        "plt.figure(figsize=(2*2*num_columnas, 2*num_filas))\n",
        "for i in range(num_imagenes):\n",
        "  plt.subplot(num_filas, 2*num_columnas, 2*i+1)\n",
        "  graficar_imagen(i, predicciones, etiquetas_prueba, imagenes_prueba)\n",
        "  plt.subplot(num_filas, 2*num_columnas, 2*i+2)\n",
        "  graficar_valores_predicciones(i, predicciones, etiquetas_prueba)\n",
        "plt.show()"
      ],
      "metadata": {
        "colab": {
          "base_uri": "https://localhost:8080/",
          "height": 830
        },
        "id": "i8Sfzyk3K2-a",
        "outputId": "3bdcaea5-719a-452f-c284-0b607a95a45f"
      },
      "execution_count": 16,
      "outputs": [
        {
          "output_type": "display_data",
          "data": {
            "text/plain": [
              "<Figure size 1200x1000 with 30 Axes>"
            ],
            "image/png": "[encoded data removed]"
          },
          "metadata": {}
        }
      ]
    }
  ]
}